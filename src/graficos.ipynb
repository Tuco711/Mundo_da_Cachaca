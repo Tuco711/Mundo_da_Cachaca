{
 "cells": [
  {
   "cell_type": "code",
   "execution_count": 2,
   "metadata": {},
   "outputs": [],
   "source": [
    "import pandas as pd\n",
    "import plotly.express as px"
   ]
  },
  {
   "cell_type": "code",
   "execution_count": 3,
   "metadata": {},
   "outputs": [
    {
     "name": "stdout",
     "output_type": "stream",
     "text": [
      "df1 = (150, 12), df2 = (867, 13), database = (866, 17)\n"
     ]
    }
   ],
   "source": [
    "df = pd.read_excel('G:\\O meu disco\\Coding\\Mundo_da_Cachaca\\data\\Relatorio vendas em euro por cliente e detalhes..xlsx', sheet_name='docscomerciais.estatisticas')\n",
    "df2 = pd.read_excel('G:\\O meu disco\\Coding\\Mundo_da_Cachaca\\data\\docscomerciais.estatisticas.xlsx', sheet_name='docscomerciais.estatisticas')\n",
    "df3 = pd.read_feather('G:\\O meu disco\\Coding\\Mundo_da_Cachaca\\data\\dados.feather')\n",
    "print(f'df1 = {df.shape}, df2 = {df2.shape}, database = {df3.shape}')"
   ]
  },
  {
   "cell_type": "code",
   "execution_count": 18,
   "metadata": {},
   "outputs": [
    {
     "name": "stdout",
     "output_type": "stream",
     "text": [
      "Index(['Artigo', 'Data doc.', 'Doc.', 'Iva Mov.', 'Liquido Mov.', 'Nome',\n",
      "       'Nome Artigo', 'Nº. Conta', 'Preço unit.', 'Qtd.', 'Tipo de Documento',\n",
      "       'Total Mov.'],\n",
      "      dtype='object')\n",
      "Index(['Artigo', 'Centro de Custo', 'Data doc.', 'Desc. 1', 'Doc.', 'Iva Mov.',\n",
      "       'Liquido Mov.', 'Nome', 'Nome Artigo', 'Nº. Conta', 'Preço unit.',\n",
      "       'Qtd.', 'Total Mov.'],\n",
      "      dtype='object')\n",
      "Index(['Ano', 'Artigo', 'Centro de Custo', 'Data doc.', 'Desc. 1', 'Doc.',\n",
      "       'Iva Mov.', 'Liquido Mov.', 'Mes', 'Nome', 'Nome Artigo', 'Nº. Conta',\n",
      "       'Preço unit.', 'Qtd.', 'Semestre', 'Total Mov.', 'Trimestre'],\n",
      "      dtype='object')\n"
     ]
    }
   ],
   "source": [
    "print(df.columns.sort_values())\n",
    "print(df2.columns.sort_values())\n",
    "print(df3.columns.sort_values())"
   ]
  },
  {
   "cell_type": "code",
   "execution_count": 4,
   "metadata": {},
   "outputs": [
    {
     "data": {
      "text/plain": [
       "(866, 17)"
      ]
     },
     "execution_count": 4,
     "metadata": {},
     "output_type": "execute_result"
    }
   ],
   "source": [
    "df3.shape"
   ]
  },
  {
   "cell_type": "code",
   "execution_count": null,
   "metadata": {},
   "outputs": [],
   "source": [
    "df.dropna(axis=0, inplace=True)\n",
    "\n",
    "df_cru = df.copy()\n",
    "\n",
    "df['Data doc.'].dt.strftime('%d-%m-%Y')\n",
    "df['Data doc.'] = pd.to_datetime(df['Data doc.'])\n",
    "\n",
    "df['Ano'] = df['Data doc.'].dt.year.astype(int).astype(str)\n",
    "df['Mes'] = df['Data doc.'].dt.month.astype(int).astype(str)\n",
    "df['Trimestre'] = df['Data doc.'].dt.quarter.astype(int).astype(str)\n",
    "df['Semestre'] = (df['Data doc.'].dt.month // 6 + 1).astype(int).astype(str)\n"
   ]
  },
  {
   "cell_type": "code",
   "execution_count": null,
   "metadata": {},
   "outputs": [
    {
     "data": {
      "text/html": [
       "<div>\n",
       "<style scoped>\n",
       "    .dataframe tbody tr th:only-of-type {\n",
       "        vertical-align: middle;\n",
       "    }\n",
       "\n",
       "    .dataframe tbody tr th {\n",
       "        vertical-align: top;\n",
       "    }\n",
       "\n",
       "    .dataframe thead th {\n",
       "        text-align: right;\n",
       "    }\n",
       "</style>\n",
       "<table border=\"1\" class=\"dataframe\">\n",
       "  <thead>\n",
       "    <tr style=\"text-align: right;\">\n",
       "      <th></th>\n",
       "      <th>Nome</th>\n",
       "      <th>Nome Artigo</th>\n",
       "      <th>Liquido Mov.</th>\n",
       "    </tr>\n",
       "  </thead>\n",
       "  <tbody>\n",
       "    <tr>\n",
       "      <th>47</th>\n",
       "      <td>Isle of Hackney Limited - Rafael D´Aló</td>\n",
       "      <td>Organização de Evento</td>\n",
       "      <td>1670.01</td>\n",
       "    </tr>\n",
       "    <tr>\n",
       "      <th>44</th>\n",
       "      <td>Fernandes &amp; CIA LTDA - Engenho São Paulo</td>\n",
       "      <td>Organização de Evento</td>\n",
       "      <td>1670.01</td>\n",
       "    </tr>\n",
       "    <tr>\n",
       "      <th>53</th>\n",
       "      <td>L M Porto</td>\n",
       "      <td>Organização de Evento</td>\n",
       "      <td>1670.01</td>\n",
       "    </tr>\n",
       "    <tr>\n",
       "      <th>109</th>\n",
       "      <td>Vanderley Pereira de Azevedo</td>\n",
       "      <td>Organização de Evento</td>\n",
       "      <td>1670.01</td>\n",
       "    </tr>\n",
       "    <tr>\n",
       "      <th>31</th>\n",
       "      <td>DESTILARIA BATISTA LTDA - EPP</td>\n",
       "      <td>Organização de Evento</td>\n",
       "      <td>1670.00</td>\n",
       "    </tr>\n",
       "    <tr>\n",
       "      <th>50</th>\n",
       "      <td>JAMBUZERA COMERCIO DE BEBIDA LTDA</td>\n",
       "      <td>Organização de Evento</td>\n",
       "      <td>1670.00</td>\n",
       "    </tr>\n",
       "    <tr>\n",
       "      <th>83</th>\n",
       "      <td>Rio do Engenho Ind. Com. Import Export. de Beb...</td>\n",
       "      <td>Organização de Evento</td>\n",
       "      <td>1670.00</td>\n",
       "    </tr>\n",
       "    <tr>\n",
       "      <th>13</th>\n",
       "      <td>Cachaça João Mendes LTDA EPP</td>\n",
       "      <td>Organização de Evento</td>\n",
       "      <td>1670.00</td>\n",
       "    </tr>\n",
       "    <tr>\n",
       "      <th>79</th>\n",
       "      <td>PORTO &amp; WINCK LDA - Capim Dourado Braga</td>\n",
       "      <td>A Cachaça Prata 70cl 38% - IABA incluido 4.26€</td>\n",
       "      <td>1467.60</td>\n",
       "    </tr>\n",
       "    <tr>\n",
       "      <th>51</th>\n",
       "      <td>JMW FOOD CONCEPTS UNIPESSOAL LDA - Capim Dourado</td>\n",
       "      <td>A Cachaça Prata 70cl 38% - IABA incluido 4.26€</td>\n",
       "      <td>1027.32</td>\n",
       "    </tr>\n",
       "  </tbody>\n",
       "</table>\n",
       "</div>"
      ],
      "text/plain": [
       "                                                  Nome  \\\n",
       "47              Isle of Hackney Limited - Rafael D´Aló   \n",
       "44            Fernandes & CIA LTDA - Engenho São Paulo   \n",
       "53                                           L M Porto   \n",
       "109                       Vanderley Pereira de Azevedo   \n",
       "31                       DESTILARIA BATISTA LTDA - EPP   \n",
       "50                   JAMBUZERA COMERCIO DE BEBIDA LTDA   \n",
       "83   Rio do Engenho Ind. Com. Import Export. de Beb...   \n",
       "13                        Cachaça João Mendes LTDA EPP   \n",
       "79             PORTO & WINCK LDA - Capim Dourado Braga   \n",
       "51    JMW FOOD CONCEPTS UNIPESSOAL LDA - Capim Dourado   \n",
       "\n",
       "                                        Nome Artigo  Liquido Mov.  \n",
       "47                            Organização de Evento       1670.01  \n",
       "44                            Organização de Evento       1670.01  \n",
       "53                            Organização de Evento       1670.01  \n",
       "109                           Organização de Evento       1670.01  \n",
       "31                            Organização de Evento       1670.00  \n",
       "50                            Organização de Evento       1670.00  \n",
       "83                            Organização de Evento       1670.00  \n",
       "13                            Organização de Evento       1670.00  \n",
       "79   A Cachaça Prata 70cl 38% - IABA incluido 4.26€       1467.60  \n",
       "51   A Cachaça Prata 70cl 38% - IABA incluido 4.26€       1027.32  "
      ]
     },
     "execution_count": 4,
     "metadata": {},
     "output_type": "execute_result"
    }
   ],
   "source": [
    "gasto_cliente_produto = df.groupby(['Nome', 'Nome Artigo'])[['Liquido Mov.']].sum().reset_index()\n",
    "rounder = lambda x: round(x, 2)\n",
    "gasto_cliente_produto['Liquido Mov.'] = gasto_cliente_produto['Liquido Mov.'].apply(rounder)\n",
    "\n",
    "gasto_cliente_produto = gasto_cliente_produto.sort_values('Liquido Mov.', ascending=False)\n",
    "gasto_cliente_produto.head(10)"
   ]
  },
  {
   "cell_type": "code",
   "execution_count": null,
   "metadata": {},
   "outputs": [
    {
     "data": {
      "application/vnd.plotly.v1+json": {
       "config": {
        "plotlyServerURL": "https://plot.ly"
       },
       "data": [
        {
         "alignmentgroup": "True",
         "hovertemplate": "<b>%{hovertext}</b><br><br>Nome Artigo=Organização de Evento<br>Total Movimentado=%{text}<br>Cliente=%{y}<extra></extra>",
         "hovertext": [
          "Isle of Hackney Limited - Rafael D´Aló",
          "Fernandes & CIA LTDA - Engenho São Paulo",
          "L M Porto",
          "Vanderley Pereira de Azevedo",
          "DESTILARIA BATISTA LTDA - EPP",
          "JAMBUZERA COMERCIO DE BEBIDA LTDA",
          "Rio do Engenho Ind. Com. Import Export. de Bebidas",
          "Cachaça João Mendes LTDA EPP"
         ],
         "legendgroup": "Organização de Evento",
         "marker": {
          "color": "#636efa",
          "pattern": {
           "shape": ""
          }
         },
         "name": "Organização de Evento",
         "offsetgroup": "Organização de Evento",
         "orientation": "h",
         "showlegend": true,
         "text": [
          1670.01,
          1670.01,
          1670.01,
          1670.01,
          1670,
          1670,
          1670,
          1670
         ],
         "textposition": "auto",
         "type": "bar",
         "x": [
          1670.01,
          1670.01,
          1670.01,
          1670.01,
          1670,
          1670,
          1670,
          1670
         ],
         "xaxis": "x",
         "y": [
          "Isle of Hackney Limited - Rafael D´Aló",
          "Fernandes & CIA LTDA - Engenho São Paulo",
          "L M Porto",
          "Vanderley Pereira de Azevedo",
          "DESTILARIA BATISTA LTDA - EPP",
          "JAMBUZERA COMERCIO DE BEBIDA LTDA",
          "Rio do Engenho Ind. Com. Import Export. de Bebidas",
          "Cachaça João Mendes LTDA EPP"
         ],
         "yaxis": "y"
        },
        {
         "alignmentgroup": "True",
         "hovertemplate": "<b>%{hovertext}</b><br><br>Nome Artigo=A Cachaça Prata 70cl 38% - IABA incluido 4.26€<br>Total Movimentado=%{text}<br>Cliente=%{y}<extra></extra>",
         "hovertext": [
          "PORTO & WINCK LDA - Capim Dourado Braga",
          "JMW FOOD CONCEPTS UNIPESSOAL LDA - Capim Dourado",
          "ROBERT SOUZA UNIPESSOAL LDA - Emporio Tuca",
          "Los Espetinhos Brasileiros SLU",
          "Sparkling Pocket Unip LDA - CopaLisboa",
          "TEMPERO LIQUIDO LDA - Curioso Cocktail Bar",
          "Wilder Miranda UNIP LDA - Sol Brasil",
          "ALECRIM MOURISCO - LDA",
          "Tasca do Ronaldao",
          "SABITA & SANTOSH LDA - Imani Cafe Pastelaria",
          "EUFORIA DOS AROMAS – ACTIVIDADES HOTELEIRAS LDA -",
          "Consumidor Final"
         ],
         "legendgroup": "A Cachaça Prata 70cl 38% - IABA incluido 4.26€",
         "marker": {
          "color": "#EF553B",
          "pattern": {
           "shape": ""
          }
         },
         "name": "A Cachaça Prata 70cl 38% - IABA incluido 4.26€",
         "offsetgroup": "A Cachaça Prata 70cl 38% - IABA incluido 4.26€",
         "orientation": "h",
         "showlegend": true,
         "text": [
          1467.6,
          1027.32,
          155.64,
          152.04,
          103.76,
          77.82,
          51.88,
          38.91,
          12.97,
          12.97,
          12.97,
          0
         ],
         "textposition": "auto",
         "type": "bar",
         "x": [
          1467.6,
          1027.32,
          155.64,
          152.04,
          103.76,
          77.82,
          51.88,
          38.91,
          12.97,
          12.97,
          12.97,
          0
         ],
         "xaxis": "x",
         "y": [
          "PORTO & WINCK LDA - Capim Dourado Braga",
          "JMW FOOD CONCEPTS UNIPESSOAL LDA - Capim Dourado",
          "ROBERT SOUZA UNIPESSOAL LDA - Emporio Tuca",
          "Los Espetinhos Brasileiros SLU",
          "Sparkling Pocket Unip LDA - CopaLisboa",
          "TEMPERO LIQUIDO LDA - Curioso Cocktail Bar",
          "Wilder Miranda UNIP LDA - Sol Brasil",
          "ALECRIM MOURISCO - LDA",
          "Tasca do Ronaldao",
          "SABITA & SANTOSH LDA - Imani Cafe Pastelaria",
          "EUFORIA DOS AROMAS – ACTIVIDADES HOTELEIRAS LDA -",
          "Consumidor Final"
         ],
         "yaxis": "y"
        },
        {
         "alignmentgroup": "True",
         "hovertemplate": "<b>%{hovertext}</b><br><br>Nome Artigo=Cachaça com Jambu Jambuzera Orgânica 1L 38% - IABA incluido 6.09€<br>Total Movimentado=%{text}<br>Cliente=%{y}<extra></extra>",
         "hovertext": [
          "Wilder Miranda UNIP LDA - Sol Brasil",
          "Cruel Restaurante Unip. Lda",
          "PALADARES DO PARAÍSO - LDA - Palaphita",
          "Los Espetinhos Brasileiros SLU",
          "Culminar D`Ideias Lda - O Fatica",
          "Sparkling Pocket Unip LDA - CopaLisboa",
          "Adeptos D’alecrim Lda - Copa Barrafina",
          "Abraços de Veludo Unip Lda - Bodega Brasileira",
          "EUFORIA DOS AROMAS – ACTIVIDADES HOTELEIRAS LDA -",
          "Marcelo Moschetti - Cachaçaria Lda"
         ],
         "legendgroup": "Cachaça com Jambu Jambuzera Orgânica 1L 38% - IABA incluido 6.09€",
         "marker": {
          "color": "#00cc96",
          "pattern": {
           "shape": ""
          }
         },
         "name": "Cachaça com Jambu Jambuzera Orgânica 1L 38% - IABA incluido 6.09€",
         "offsetgroup": "Cachaça com Jambu Jambuzera Orgânica 1L 38% - IABA incluido 6.09€",
         "orientation": "h",
         "showlegend": true,
         "text": [
          319.7,
          191.82,
          191.82,
          95.91,
          95.91,
          63.94,
          31.97,
          31.97,
          31.97,
          31.97
         ],
         "textposition": "auto",
         "type": "bar",
         "x": [
          319.7,
          191.82,
          191.82,
          95.91,
          95.91,
          63.94,
          31.97,
          31.97,
          31.97,
          31.97
         ],
         "xaxis": "x",
         "y": [
          "Wilder Miranda UNIP LDA - Sol Brasil",
          "Cruel Restaurante Unip. Lda",
          "PALADARES DO PARAÍSO - LDA - Palaphita",
          "Los Espetinhos Brasileiros SLU",
          "Culminar D`Ideias Lda - O Fatica",
          "Sparkling Pocket Unip LDA - CopaLisboa",
          "Adeptos D’alecrim Lda - Copa Barrafina",
          "Abraços de Veludo Unip Lda - Bodega Brasileira",
          "EUFORIA DOS AROMAS – ACTIVIDADES HOTELEIRAS LDA -",
          "Marcelo Moschetti - Cachaçaria Lda"
         ],
         "yaxis": "y"
        },
        {
         "alignmentgroup": "True",
         "hovertemplate": "<b>%{hovertext}</b><br><br>Nome Artigo=Cachaça Pindorama Prata 70 cl 40% - IABA incluido 4.49€<br>Total Movimentado=%{text}<br>Cliente=%{y}<extra></extra>",
         "hovertext": [
          "Marcelo Moschetti - Cachaçaria Lda",
          "Consumidor Final"
         ],
         "legendgroup": "Cachaça Pindorama Prata 70 cl 40% - IABA incluido 4.49€",
         "marker": {
          "color": "#ab63fa",
          "pattern": {
           "shape": ""
          }
         },
         "name": "Cachaça Pindorama Prata 70 cl 40% - IABA incluido 4.49€",
         "offsetgroup": "Cachaça Pindorama Prata 70 cl 40% - IABA incluido 4.49€",
         "orientation": "h",
         "showlegend": true,
         "text": [
          261,
          0
         ],
         "textposition": "auto",
         "type": "bar",
         "x": [
          261,
          0
         ],
         "xaxis": "x",
         "y": [
          "Marcelo Moschetti - Cachaçaria Lda",
          "Consumidor Final"
         ],
         "yaxis": "y"
        },
        {
         "alignmentgroup": "True",
         "hovertemplate": "<b>%{hovertext}</b><br><br>Nome Artigo=Cachaça com Jambu Jambuzera Orgânica 50cl 38% - IABA incluido 4.26€<br>Total Movimentado=%{text}<br>Cliente=%{y}<extra></extra>",
         "hovertext": [
          "MALINCONICO FRANCESCO - o Barão di Francesco Malin",
          "CALCULCORNUCÓPIA LDA - Vino Vero",
          "TOCA DAS ARTES - NÚCLEO CULTURAL",
          "Ivan Bachiller Vial",
          "Rodrigo Waddington",
          "ALECRIM MOURISCO - LDA",
          "Norbert Radvilovic",
          "Consumidor Final",
          "SABITA & SANTOSH LDA - Imani Cafe Pastelaria"
         ],
         "legendgroup": "Cachaça com Jambu Jambuzera Orgânica 50cl 38% - IABA incluido 4.26€",
         "marker": {
          "color": "#FFA15A",
          "pattern": {
           "shape": ""
          }
         },
         "name": "Cachaça com Jambu Jambuzera Orgânica 50cl 38% - IABA incluido 4.26€",
         "offsetgroup": "Cachaça com Jambu Jambuzera Orgânica 50cl 38% - IABA incluido 4.26€",
         "orientation": "h",
         "showlegend": true,
         "text": [
          183.2,
          137.4,
          137.4,
          55.93,
          55.93,
          45.8,
          27.97,
          22.9,
          22.9
         ],
         "textposition": "auto",
         "type": "bar",
         "x": [
          183.2,
          137.4,
          137.4,
          55.93,
          55.93,
          45.8,
          27.97,
          22.9,
          22.9
         ],
         "xaxis": "x",
         "y": [
          "MALINCONICO FRANCESCO - o Barão di Francesco Malin",
          "CALCULCORNUCÓPIA LDA - Vino Vero",
          "TOCA DAS ARTES - NÚCLEO CULTURAL",
          "Ivan Bachiller Vial",
          "Rodrigo Waddington",
          "ALECRIM MOURISCO - LDA",
          "Norbert Radvilovic",
          "Consumidor Final",
          "SABITA & SANTOSH LDA - Imani Cafe Pastelaria"
         ],
         "yaxis": "y"
        },
        {
         "alignmentgroup": "True",
         "hovertemplate": "<b>%{hovertext}</b><br><br>Nome Artigo=Cachaça Rio do Engenho Reserva 70cl 38% - IABA incluido 4.26€<br>Total Movimentado=%{text}<br>Cliente=%{y}<extra></extra>",
         "hovertext": [
          "Wilder Miranda UNIP LDA - Sol Brasil",
          "Adeptos D’alecrim Lda - Copa Barrafina",
          "EUFORIA DOS AROMAS – ACTIVIDADES HOTELEIRAS LDA -",
          "Sparkling Pocket Unip LDA - CopaLisboa",
          "Marcelo Moschetti - Cachaçaria Lda"
         ],
         "legendgroup": "Cachaça Rio do Engenho Reserva 70cl 38% - IABA incluido 4.26€",
         "marker": {
          "color": "#19d3f3",
          "pattern": {
           "shape": ""
          }
         },
         "name": "Cachaça Rio do Engenho Reserva 70cl 38% - IABA incluido 4.26€",
         "offsetgroup": "Cachaça Rio do Engenho Reserva 70cl 38% - IABA incluido 4.26€",
         "orientation": "h",
         "showlegend": true,
         "text": [
          153.79,
          21.97,
          21.97,
          21.97,
          21.97
         ],
         "textposition": "auto",
         "type": "bar",
         "x": [
          153.79,
          21.97,
          21.97,
          21.97,
          21.97
         ],
         "xaxis": "x",
         "y": [
          "Wilder Miranda UNIP LDA - Sol Brasil",
          "Adeptos D’alecrim Lda - Copa Barrafina",
          "EUFORIA DOS AROMAS – ACTIVIDADES HOTELEIRAS LDA -",
          "Sparkling Pocket Unip LDA - CopaLisboa",
          "Marcelo Moschetti - Cachaçaria Lda"
         ],
         "yaxis": "y"
        },
        {
         "alignmentgroup": "True",
         "hovertemplate": "<b>%{hovertext}</b><br><br>Nome Artigo=Cachaça Vanderley Azevedo Black 70cl 40% - IABA incluido 4.49€<br>Total Movimentado=%{text}<br>Cliente=%{y}<extra></extra>",
         "hovertext": [
          "TEMPERO LIQUIDO LDA - Curioso Cocktail Bar",
          "Worldlounge, lda - Wine & Books Hotel Porto",
          "Los Espetinhos Brasileiros SLU",
          "Adeptos D’alecrim Lda - Copa Barrafina",
          "Sparkling Pocket Unip LDA - CopaLisboa",
          "Consumidor Final"
         ],
         "legendgroup": "Cachaça Vanderley Azevedo Black 70cl 40% - IABA incluido 4.49€",
         "marker": {
          "color": "#FF6692",
          "pattern": {
           "shape": ""
          }
         },
         "name": "Cachaça Vanderley Azevedo Black 70cl 40% - IABA incluido 4.49€",
         "offsetgroup": "Cachaça Vanderley Azevedo Black 70cl 40% - IABA incluido 4.49€",
         "orientation": "h",
         "showlegend": true,
         "text": [
          143.82,
          143.82,
          71.91,
          23.97,
          23.97,
          0
         ],
         "textposition": "auto",
         "type": "bar",
         "x": [
          143.82,
          143.82,
          71.91,
          23.97,
          23.97,
          0
         ],
         "xaxis": "x",
         "y": [
          "TEMPERO LIQUIDO LDA - Curioso Cocktail Bar",
          "Worldlounge, lda - Wine & Books Hotel Porto",
          "Los Espetinhos Brasileiros SLU",
          "Adeptos D’alecrim Lda - Copa Barrafina",
          "Sparkling Pocket Unip LDA - CopaLisboa",
          "Consumidor Final"
         ],
         "yaxis": "y"
        },
        {
         "alignmentgroup": "True",
         "hovertemplate": "<b>%{hovertext}</b><br><br>Nome Artigo=Cachaça Weber Haus Amburana 70cl 38% - IABA incluido 4.26€<br>Total Movimentado=%{text}<br>Cliente=%{y}<extra></extra>",
         "hovertext": [
          "Sparkling Pocket Unip LDA - CopaLisboa",
          "Norbert Radvilovic",
          "Consumidor Final"
         ],
         "legendgroup": "Cachaça Weber Haus Amburana 70cl 38% - IABA incluido 4.26€",
         "marker": {
          "color": "#B6E880",
          "pattern": {
           "shape": ""
          }
         },
         "name": "Cachaça Weber Haus Amburana 70cl 38% - IABA incluido 4.26€",
         "offsetgroup": "Cachaça Weber Haus Amburana 70cl 38% - IABA incluido 4.26€",
         "orientation": "h",
         "showlegend": true,
         "text": [
          100,
          30.49,
          0
         ],
         "textposition": "auto",
         "type": "bar",
         "x": [
          100,
          30.49,
          0
         ],
         "xaxis": "x",
         "y": [
          "Sparkling Pocket Unip LDA - CopaLisboa",
          "Norbert Radvilovic",
          "Consumidor Final"
         ],
         "yaxis": "y"
        },
        {
         "alignmentgroup": "True",
         "hovertemplate": "<b>%{hovertext}</b><br><br>Nome Artigo=Cachaça W! Prime 70 cl 39% - IABA incluido 4.37€<br>Total Movimentado=%{text}<br>Cliente=%{y}<extra></extra>",
         "hovertext": [
          "Los Espetinhos Brasileiros SLU"
         ],
         "legendgroup": "Cachaça W! Prime 70 cl 39% - IABA incluido 4.37€",
         "marker": {
          "color": "#FF97FF",
          "pattern": {
           "shape": ""
          }
         },
         "name": "Cachaça W! Prime 70 cl 39% - IABA incluido 4.37€",
         "offsetgroup": "Cachaça W! Prime 70 cl 39% - IABA incluido 4.37€",
         "orientation": "h",
         "showlegend": true,
         "text": [
          97.3
         ],
         "textposition": "auto",
         "type": "bar",
         "x": [
          97.3
         ],
         "xaxis": "x",
         "y": [
          "Los Espetinhos Brasileiros SLU"
         ],
         "yaxis": "y"
        },
        {
         "alignmentgroup": "True",
         "hovertemplate": "<b>%{hovertext}</b><br><br>Nome Artigo=Cachaça João Mendes Ouro 70cl 38% - IABA incluido 4.26€<br>Total Movimentado=%{text}<br>Cliente=%{y}<extra></extra>",
         "hovertext": [
          "Daniel Skutnik",
          "SABITA & SANTOSH LDA - Imani Cafe Pastelaria",
          "Adeptos D’alecrim Lda - Copa Barrafina",
          "ROBERT SOUZA UNIPESSOAL LDA - Emporio Tuca"
         ],
         "legendgroup": "Cachaça João Mendes Ouro 70cl 38% - IABA incluido 4.26€",
         "marker": {
          "color": "#FECB52",
          "pattern": {
           "shape": ""
          }
         },
         "name": "Cachaça João Mendes Ouro 70cl 38% - IABA incluido 4.26€",
         "offsetgroup": "Cachaça João Mendes Ouro 70cl 38% - IABA incluido 4.26€",
         "orientation": "h",
         "showlegend": true,
         "text": [
          72.85,
          19.9,
          19.9,
          19.9
         ],
         "textposition": "auto",
         "type": "bar",
         "x": [
          72.85,
          19.9,
          19.9,
          19.9
         ],
         "xaxis": "x",
         "y": [
          "Daniel Skutnik",
          "SABITA & SANTOSH LDA - Imani Cafe Pastelaria",
          "Adeptos D’alecrim Lda - Copa Barrafina",
          "ROBERT SOUZA UNIPESSOAL LDA - Emporio Tuca"
         ],
         "yaxis": "y"
        },
        {
         "alignmentgroup": "True",
         "hovertemplate": "<b>%{hovertext}</b><br><br>Nome Artigo=Cachaça Vanderley Azevedo Premium 70cl 40% - IABA incluido 4.49€<br>Total Movimentado=%{text}<br>Cliente=%{y}<extra></extra>",
         "hovertext": [
          "MALINCONICO FRANCESCO - o Barão di Francesco Malin",
          "Consumidor Final"
         ],
         "legendgroup": "Cachaça Vanderley Azevedo Premium 70cl 40% - IABA incluido 4.49€",
         "marker": {
          "color": "#636efa",
          "pattern": {
           "shape": ""
          }
         },
         "name": "Cachaça Vanderley Azevedo Premium 70cl 40% - IABA incluido 4.49€",
         "offsetgroup": "Cachaça Vanderley Azevedo Premium 70cl 40% - IABA incluido 4.49€",
         "orientation": "h",
         "showlegend": true,
         "text": [
          70.6,
          0
         ],
         "textposition": "auto",
         "type": "bar",
         "x": [
          70.6,
          0
         ],
         "xaxis": "x",
         "y": [
          "MALINCONICO FRANCESCO - o Barão di Francesco Malin",
          "Consumidor Final"
         ],
         "yaxis": "y"
        },
        {
         "alignmentgroup": "True",
         "hovertemplate": "<b>%{hovertext}</b><br><br>Nome Artigo=Cachaça Amburana Carvalho Minas 70cl 42% - IABA incluido 4.71€<br>Total Movimentado=%{text}<br>Cliente=%{y}<extra></extra>",
         "hovertext": [
          "Wilder Miranda UNIP LDA - Sol Brasil"
         ],
         "legendgroup": "Cachaça Amburana Carvalho Minas 70cl 42% - IABA incluido 4.71€",
         "marker": {
          "color": "#EF553B",
          "pattern": {
           "shape": ""
          }
         },
         "name": "Cachaça Amburana Carvalho Minas 70cl 42% - IABA incluido 4.71€",
         "offsetgroup": "Cachaça Amburana Carvalho Minas 70cl 42% - IABA incluido 4.71€",
         "orientation": "h",
         "showlegend": true,
         "text": [
          69.3
         ],
         "textposition": "auto",
         "type": "bar",
         "x": [
          69.3
         ],
         "xaxis": "x",
         "y": [
          "Wilder Miranda UNIP LDA - Sol Brasil"
         ],
         "yaxis": "y"
        },
        {
         "alignmentgroup": "True",
         "hovertemplate": "<b>%{hovertext}</b><br><br>Nome Artigo=Cachaça Melicana Amburana 700ml 40% - IABA incluido 4.49€<br>Total Movimentado=%{text}<br>Cliente=%{y}<extra></extra>",
         "hovertext": [
          "Marcelo Moschetti - Cachaçaria Lda",
          "ALECRIM MOURISCO - LDA",
          "EUFORIA DOS AROMAS – ACTIVIDADES HOTELEIRAS LDA -"
         ],
         "legendgroup": "Cachaça Melicana Amburana 700ml 40% - IABA incluido 4.49€",
         "marker": {
          "color": "#00cc96",
          "pattern": {
           "shape": ""
          }
         },
         "name": "Cachaça Melicana Amburana 700ml 40% - IABA incluido 4.49€",
         "offsetgroup": "Cachaça Melicana Amburana 700ml 40% - IABA incluido 4.49€",
         "orientation": "h",
         "showlegend": true,
         "text": [
          62.61,
          20.87,
          20.87
         ],
         "textposition": "auto",
         "type": "bar",
         "x": [
          62.61,
          20.87,
          20.87
         ],
         "xaxis": "x",
         "y": [
          "Marcelo Moschetti - Cachaçaria Lda",
          "ALECRIM MOURISCO - LDA",
          "EUFORIA DOS AROMAS – ACTIVIDADES HOTELEIRAS LDA -"
         ],
         "yaxis": "y"
        },
        {
         "alignmentgroup": "True",
         "hovertemplate": "<b>%{hovertext}</b><br><br>Nome Artigo=Cachaça Weber Haus Canela Sassafras 70cl 38% - IABA incluido 4.26€<br>Total Movimentado=%{text}<br>Cliente=%{y}<extra></extra>",
         "hovertext": [
          "EUFORIA DOS AROMAS – ACTIVIDADES HOTELEIRAS LDA -",
          "MALINCONICO FRANCESCO - o Barão di Francesco Malin"
         ],
         "legendgroup": "Cachaça Weber Haus Canela Sassafras 70cl 38% - IABA incluido 4.26€",
         "marker": {
          "color": "#ab63fa",
          "pattern": {
           "shape": ""
          }
         },
         "name": "Cachaça Weber Haus Canela Sassafras 70cl 38% - IABA incluido 4.26€",
         "offsetgroup": "Cachaça Weber Haus Canela Sassafras 70cl 38% - IABA incluido 4.26€",
         "orientation": "h",
         "showlegend": true,
         "text": [
          50,
          50
         ],
         "textposition": "auto",
         "type": "bar",
         "x": [
          50,
          50
         ],
         "xaxis": "x",
         "y": [
          "EUFORIA DOS AROMAS – ACTIVIDADES HOTELEIRAS LDA -",
          "MALINCONICO FRANCESCO - o Barão di Francesco Malin"
         ],
         "yaxis": "y"
        },
        {
         "alignmentgroup": "True",
         "hovertemplate": "<b>%{hovertext}</b><br><br>Nome Artigo=Cachaça Weber Haus Carvalho e Cabriuva 70cl 38% - IABA incluido 4.26€<br>Total Movimentado=%{text}<br>Cliente=%{y}<extra></extra>",
         "hovertext": [
          "EUFORIA DOS AROMAS – ACTIVIDADES HOTELEIRAS LDA -"
         ],
         "legendgroup": "Cachaça Weber Haus Carvalho e Cabriuva 70cl 38% - IABA incluido 4.26€",
         "marker": {
          "color": "#FFA15A",
          "pattern": {
           "shape": ""
          }
         },
         "name": "Cachaça Weber Haus Carvalho e Cabriuva 70cl 38% - IABA incluido 4.26€",
         "offsetgroup": "Cachaça Weber Haus Carvalho e Cabriuva 70cl 38% - IABA incluido 4.26€",
         "orientation": "h",
         "showlegend": true,
         "text": [
          50
         ],
         "textposition": "auto",
         "type": "bar",
         "x": [
          50
         ],
         "xaxis": "x",
         "y": [
          "EUFORIA DOS AROMAS – ACTIVIDADES HOTELEIRAS LDA -"
         ],
         "yaxis": "y"
        },
        {
         "alignmentgroup": "True",
         "hovertemplate": "<b>%{hovertext}</b><br><br>Nome Artigo=Licor Creme de Doce de Leite João Mendes 50cl 15% - IABA incluido 1.20€<br>Total Movimentado=%{text}<br>Cliente=%{y}<extra></extra>",
         "hovertext": [
          "Consumidor Final",
          "José Moreira",
          "Marcelo Moschetti - Cachaçaria Lda"
         ],
         "legendgroup": "Licor Creme de Doce de Leite João Mendes 50cl 15% - IABA incluido 1.20€",
         "marker": {
          "color": "#19d3f3",
          "pattern": {
           "shape": ""
          }
         },
         "name": "Licor Creme de Doce de Leite João Mendes 50cl 15% - IABA incluido 1.20€",
         "offsetgroup": "Licor Creme de Doce de Leite João Mendes 50cl 15% - IABA incluido 1.20€",
         "orientation": "h",
         "showlegend": true,
         "text": [
          48.45,
          16.15,
          16.15
         ],
         "textposition": "auto",
         "type": "bar",
         "x": [
          48.45,
          16.15,
          16.15
         ],
         "xaxis": "x",
         "y": [
          "Consumidor Final",
          "José Moreira",
          "Marcelo Moschetti - Cachaçaria Lda"
         ],
         "yaxis": "y"
        },
        {
         "alignmentgroup": "True",
         "hovertemplate": "<b>%{hovertext}</b><br><br>Nome Artigo=Cachaça Rio do Engenho Ouro 70cl 38% - IABA incluido 4.26€<br>Total Movimentado=%{text}<br>Cliente=%{y}<extra></extra>",
         "hovertext": [
          "EUFORIA DOS AROMAS – ACTIVIDADES HOTELEIRAS LDA -"
         ],
         "legendgroup": "Cachaça Rio do Engenho Ouro 70cl 38% - IABA incluido 4.26€",
         "marker": {
          "color": "#FF6692",
          "pattern": {
           "shape": ""
          }
         },
         "name": "Cachaça Rio do Engenho Ouro 70cl 38% - IABA incluido 4.26€",
         "offsetgroup": "Cachaça Rio do Engenho Ouro 70cl 38% - IABA incluido 4.26€",
         "orientation": "h",
         "showlegend": true,
         "text": [
          41.94
         ],
         "textposition": "auto",
         "type": "bar",
         "x": [
          41.94
         ],
         "xaxis": "x",
         "y": [
          "EUFORIA DOS AROMAS – ACTIVIDADES HOTELEIRAS LDA -"
         ],
         "yaxis": "y"
        },
        {
         "alignmentgroup": "True",
         "hovertemplate": "<b>%{hovertext}</b><br><br>Nome Artigo=Cachaça Tellura Jequitibá 70cl 40% - IABA incluido 4.49€<br>Total Movimentado=%{text}<br>Cliente=%{y}<extra></extra>",
         "hovertext": [
          "ROBERT SOUZA UNIPESSOAL LDA - Emporio Tuca"
         ],
         "legendgroup": "Cachaça Tellura Jequitibá 70cl 40% - IABA incluido 4.49€",
         "marker": {
          "color": "#B6E880",
          "pattern": {
           "shape": ""
          }
         },
         "name": "Cachaça Tellura Jequitibá 70cl 40% - IABA incluido 4.49€",
         "offsetgroup": "Cachaça Tellura Jequitibá 70cl 40% - IABA incluido 4.49€",
         "orientation": "h",
         "showlegend": true,
         "text": [
          35.5
         ],
         "textposition": "auto",
         "type": "bar",
         "x": [
          35.5
         ],
         "xaxis": "x",
         "y": [
          "ROBERT SOUZA UNIPESSOAL LDA - Emporio Tuca"
         ],
         "yaxis": "y"
        },
        {
         "alignmentgroup": "True",
         "hovertemplate": "<b>%{hovertext}</b><br><br>Nome Artigo=Porte de Envio Mercado Extra<br>Total Movimentado=%{text}<br>Cliente=%{y}<extra></extra>",
         "hovertext": [
          "MALINCONICO FRANCESCO - o Barão di Francesco Malin",
          "Los Espetinhos Brasileiros SLU",
          "Daniel Skutnik",
          "Norbert Radvilovic",
          "Ivan Bachiller Vial"
         ],
         "legendgroup": "Porte de Envio Mercado Extra",
         "marker": {
          "color": "#FF97FF",
          "pattern": {
           "shape": ""
          }
         },
         "name": "Porte de Envio Mercado Extra",
         "offsetgroup": "Porte de Envio Mercado Extra",
         "orientation": "h",
         "showlegend": true,
         "text": [
          30.25,
          28.1,
          18.7,
          14.15,
          12.2
         ],
         "textposition": "auto",
         "type": "bar",
         "x": [
          30.25,
          28.1,
          18.7,
          14.15,
          12.2
         ],
         "xaxis": "x",
         "y": [
          "MALINCONICO FRANCESCO - o Barão di Francesco Malin",
          "Los Espetinhos Brasileiros SLU",
          "Daniel Skutnik",
          "Norbert Radvilovic",
          "Ivan Bachiller Vial"
         ],
         "yaxis": "y"
        },
        {
         "alignmentgroup": "True",
         "hovertemplate": "<b>%{hovertext}</b><br><br>Nome Artigo=Cachaça Tiê Balsamo 70cl 40% - IABA incluido 4.49€<br>Total Movimentado=%{text}<br>Cliente=%{y}<extra></extra>",
         "hovertext": [
          "Marcelo Moschetti - Cachaçaria Lda"
         ],
         "legendgroup": "Cachaça Tiê Balsamo 70cl 40% - IABA incluido 4.49€",
         "marker": {
          "color": "#FECB52",
          "pattern": {
           "shape": ""
          }
         },
         "name": "Cachaça Tiê Balsamo 70cl 40% - IABA incluido 4.49€",
         "offsetgroup": "Cachaça Tiê Balsamo 70cl 40% - IABA incluido 4.49€",
         "orientation": "h",
         "showlegend": true,
         "text": [
          28.4
         ],
         "textposition": "auto",
         "type": "bar",
         "x": [
          28.4
         ],
         "xaxis": "x",
         "y": [
          "Marcelo Moschetti - Cachaçaria Lda"
         ],
         "yaxis": "y"
        },
        {
         "alignmentgroup": "True",
         "hovertemplate": "<b>%{hovertext}</b><br><br>Nome Artigo=Cachaça Tiê Jequitibá 70cl 40% - IABA incluido 4.49€<br>Total Movimentado=%{text}<br>Cliente=%{y}<extra></extra>",
         "hovertext": [
          "Sparkling Pocket Unip LDA - CopaLisboa"
         ],
         "legendgroup": "Cachaça Tiê Jequitibá 70cl 40% - IABA incluido 4.49€",
         "marker": {
          "color": "#636efa",
          "pattern": {
           "shape": ""
          }
         },
         "name": "Cachaça Tiê Jequitibá 70cl 40% - IABA incluido 4.49€",
         "offsetgroup": "Cachaça Tiê Jequitibá 70cl 40% - IABA incluido 4.49€",
         "orientation": "h",
         "showlegend": true,
         "text": [
          26.77
         ],
         "textposition": "auto",
         "type": "bar",
         "x": [
          26.77
         ],
         "xaxis": "x",
         "y": [
          "Sparkling Pocket Unip LDA - CopaLisboa"
         ],
         "yaxis": "y"
        },
        {
         "alignmentgroup": "True",
         "hovertemplate": "<b>%{hovertext}</b><br><br>Nome Artigo=Cachaça 1922 Envelhecida 70cl 40% - IABA incluido 4.49€<br>Total Movimentado=%{text}<br>Cliente=%{y}<extra></extra>",
         "hovertext": [
          "Sparkling Pocket Unip LDA - CopaLisboa",
          "Marcelo Moschetti - Cachaçaria Lda"
         ],
         "legendgroup": "Cachaça 1922 Envelhecida 70cl 40% - IABA incluido 4.49€",
         "marker": {
          "color": "#EF553B",
          "pattern": {
           "shape": ""
          }
         },
         "name": "Cachaça 1922 Envelhecida 70cl 40% - IABA incluido 4.49€",
         "offsetgroup": "Cachaça 1922 Envelhecida 70cl 40% - IABA incluido 4.49€",
         "orientation": "h",
         "showlegend": true,
         "text": [
          26.5,
          26.5
         ],
         "textposition": "auto",
         "type": "bar",
         "x": [
          26.5,
          26.5
         ],
         "xaxis": "x",
         "y": [
          "Sparkling Pocket Unip LDA - CopaLisboa",
          "Marcelo Moschetti - Cachaçaria Lda"
         ],
         "yaxis": "y"
        },
        {
         "alignmentgroup": "True",
         "hovertemplate": "<b>%{hovertext}</b><br><br>Nome Artigo=Cachaça Sepultura Amburana 70cl 40% - IABA incluido 4.49€<br>Total Movimentado=%{text}<br>Cliente=%{y}<extra></extra>",
         "hovertext": [
          "Sparkling Pocket Unip LDA - CopaLisboa"
         ],
         "legendgroup": "Cachaça Sepultura Amburana 70cl 40% - IABA incluido 4.49€",
         "marker": {
          "color": "#00cc96",
          "pattern": {
           "shape": ""
          }
         },
         "name": "Cachaça Sepultura Amburana 70cl 40% - IABA incluido 4.49€",
         "offsetgroup": "Cachaça Sepultura Amburana 70cl 40% - IABA incluido 4.49€",
         "orientation": "h",
         "showlegend": true,
         "text": [
          24.47
         ],
         "textposition": "auto",
         "type": "bar",
         "x": [
          24.47
         ],
         "xaxis": "x",
         "y": [
          "Sparkling Pocket Unip LDA - CopaLisboa"
         ],
         "yaxis": "y"
        },
        {
         "alignmentgroup": "True",
         "hovertemplate": "<b>%{hovertext}</b><br><br>Nome Artigo=Cachaça Amburana 5 Madeiras 70cl 42% - IABA incluido 4.71€<br>Total Movimentado=%{text}<br>Cliente=%{y}<extra></extra>",
         "hovertext": [
          "Ilidio Almeida",
          "Consumidor Final"
         ],
         "legendgroup": "Cachaça Amburana 5 Madeiras 70cl 42% - IABA incluido 4.71€",
         "marker": {
          "color": "#ab63fa",
          "pattern": {
           "shape": ""
          }
         },
         "name": "Cachaça Amburana 5 Madeiras 70cl 42% - IABA incluido 4.71€",
         "offsetgroup": "Cachaça Amburana 5 Madeiras 70cl 42% - IABA incluido 4.71€",
         "orientation": "h",
         "showlegend": true,
         "text": [
          23.1,
          0
         ],
         "textposition": "auto",
         "type": "bar",
         "x": [
          23.1,
          0
         ],
         "xaxis": "x",
         "y": [
          "Ilidio Almeida",
          "Consumidor Final"
         ],
         "yaxis": "y"
        },
        {
         "alignmentgroup": "True",
         "hovertemplate": "<b>%{hovertext}</b><br><br>Nome Artigo=Cachaça Arbórea Carvalho e Amburana 70cl 39% - IABA incluido 4.37€<br>Total Movimentado=%{text}<br>Cliente=%{y}<extra></extra>",
         "hovertext": [
          "Marcelo Moschetti - Cachaçaria Lda"
         ],
         "legendgroup": "Cachaça Arbórea Carvalho e Amburana 70cl 39% - IABA incluido 4.37€",
         "marker": {
          "color": "#FFA15A",
          "pattern": {
           "shape": ""
          }
         },
         "name": "Cachaça Arbórea Carvalho e Amburana 70cl 39% - IABA incluido 4.37€",
         "offsetgroup": "Cachaça Arbórea Carvalho e Amburana 70cl 39% - IABA incluido 4.37€",
         "orientation": "h",
         "showlegend": true,
         "text": [
          21.97
         ],
         "textposition": "auto",
         "type": "bar",
         "x": [
          21.97
         ],
         "xaxis": "x",
         "y": [
          "Marcelo Moschetti - Cachaçaria Lda"
         ],
         "yaxis": "y"
        },
        {
         "alignmentgroup": "True",
         "hovertemplate": "<b>%{hovertext}</b><br><br>Nome Artigo=Cachaça Batista Amburana 70cl 40% - IABA incluido 4.49€<br>Total Movimentado=%{text}<br>Cliente=%{y}<extra></extra>",
         "hovertext": [
          "Sparkling Pocket Unip LDA - CopaLisboa"
         ],
         "legendgroup": "Cachaça Batista Amburana 70cl 40% - IABA incluido 4.49€",
         "marker": {
          "color": "#19d3f3",
          "pattern": {
           "shape": ""
          }
         },
         "name": "Cachaça Batista Amburana 70cl 40% - IABA incluido 4.49€",
         "offsetgroup": "Cachaça Batista Amburana 70cl 40% - IABA incluido 4.49€",
         "orientation": "h",
         "showlegend": true,
         "text": [
          21.97
         ],
         "textposition": "auto",
         "type": "bar",
         "x": [
          21.97
         ],
         "xaxis": "x",
         "y": [
          "Sparkling Pocket Unip LDA - CopaLisboa"
         ],
         "yaxis": "y"
        },
        {
         "alignmentgroup": "True",
         "hovertemplate": "<b>%{hovertext}</b><br><br>Nome Artigo=Cachaça Canabella Ouro 70cl 40% - IABA incluido 4.49€<br>Total Movimentado=%{text}<br>Cliente=%{y}<extra></extra>",
         "hovertext": [
          "EUFORIA DOS AROMAS – ACTIVIDADES HOTELEIRAS LDA -",
          "Adeptos D’alecrim Lda - Copa Barrafina"
         ],
         "legendgroup": "Cachaça Canabella Ouro 70cl 40% - IABA incluido 4.49€",
         "marker": {
          "color": "#FF6692",
          "pattern": {
           "shape": ""
          }
         },
         "name": "Cachaça Canabella Ouro 70cl 40% - IABA incluido 4.49€",
         "offsetgroup": "Cachaça Canabella Ouro 70cl 40% - IABA incluido 4.49€",
         "orientation": "h",
         "showlegend": true,
         "text": [
          21.7,
          21.7
         ],
         "textposition": "auto",
         "type": "bar",
         "x": [
          21.7,
          21.7
         ],
         "xaxis": "x",
         "y": [
          "EUFORIA DOS AROMAS – ACTIVIDADES HOTELEIRAS LDA -",
          "Adeptos D’alecrim Lda - Copa Barrafina"
         ],
         "yaxis": "y"
        },
        {
         "alignmentgroup": "True",
         "hovertemplate": "<b>%{hovertext}</b><br><br>Nome Artigo=Cachaça Batista Prata 70cl 40% - IABA incluido 4.49€<br>Total Movimentado=%{text}<br>Cliente=%{y}<extra></extra>",
         "hovertext": [
          "Sparkling Pocket Unip LDA - CopaLisboa"
         ],
         "legendgroup": "Cachaça Batista Prata 70cl 40% - IABA incluido 4.49€",
         "marker": {
          "color": "#B6E880",
          "pattern": {
           "shape": ""
          }
         },
         "name": "Cachaça Batista Prata 70cl 40% - IABA incluido 4.49€",
         "offsetgroup": "Cachaça Batista Prata 70cl 40% - IABA incluido 4.49€",
         "orientation": "h",
         "showlegend": true,
         "text": [
          21.37
         ],
         "textposition": "auto",
         "type": "bar",
         "x": [
          21.37
         ],
         "xaxis": "x",
         "y": [
          "Sparkling Pocket Unip LDA - CopaLisboa"
         ],
         "yaxis": "y"
        },
        {
         "alignmentgroup": "True",
         "hovertemplate": "<b>%{hovertext}</b><br><br>Nome Artigo=Cachaça Bockorny Balsamo 70cl 38% - IABA incluido 4.26€<br>Total Movimentado=%{text}<br>Cliente=%{y}<extra></extra>",
         "hovertext": [
          "Sparkling Pocket Unip LDA - CopaLisboa"
         ],
         "legendgroup": "Cachaça Bockorny Balsamo 70cl 38% - IABA incluido 4.26€",
         "marker": {
          "color": "#FF97FF",
          "pattern": {
           "shape": ""
          }
         },
         "name": "Cachaça Bockorny Balsamo 70cl 38% - IABA incluido 4.26€",
         "offsetgroup": "Cachaça Bockorny Balsamo 70cl 38% - IABA incluido 4.26€",
         "orientation": "h",
         "showlegend": true,
         "text": [
          21.1
         ],
         "textposition": "auto",
         "type": "bar",
         "x": [
          21.1
         ],
         "xaxis": "x",
         "y": [
          "Sparkling Pocket Unip LDA - CopaLisboa"
         ],
         "yaxis": "y"
        },
        {
         "alignmentgroup": "True",
         "hovertemplate": "<b>%{hovertext}</b><br><br>Nome Artigo=Cachaça Caboclinha Jequitibá 70cl% - IABA incluido 4.71€<br>Total Movimentado=%{text}<br>Cliente=%{y}<extra></extra>",
         "hovertext": [
          "Marcelo Moschetti - Cachaçaria Lda",
          "Sparkling Pocket Unip LDA - CopaLisboa"
         ],
         "legendgroup": "Cachaça Caboclinha Jequitibá 70cl% - IABA incluido 4.71€",
         "marker": {
          "color": "#FECB52",
          "pattern": {
           "shape": ""
          }
         },
         "name": "Cachaça Caboclinha Jequitibá 70cl% - IABA incluido 4.71€",
         "offsetgroup": "Cachaça Caboclinha Jequitibá 70cl% - IABA incluido 4.71€",
         "orientation": "h",
         "showlegend": true,
         "text": [
          20.3,
          20.3
         ],
         "textposition": "auto",
         "type": "bar",
         "x": [
          20.3,
          20.3
         ],
         "xaxis": "x",
         "y": [
          "Marcelo Moschetti - Cachaçaria Lda",
          "Sparkling Pocket Unip LDA - CopaLisboa"
         ],
         "yaxis": "y"
        },
        {
         "alignmentgroup": "True",
         "hovertemplate": "<b>%{hovertext}</b><br><br>Nome Artigo=Cachaça Rio do Engenho Prata 70cl 38% - IABA incluido 4.26€<br>Total Movimentado=%{text}<br>Cliente=%{y}<extra></extra>",
         "hovertext": [
          "EUFORIA DOS AROMAS – ACTIVIDADES HOTELEIRAS LDA -"
         ],
         "legendgroup": "Cachaça Rio do Engenho Prata 70cl 38% - IABA incluido 4.26€",
         "marker": {
          "color": "#636efa",
          "pattern": {
           "shape": ""
          }
         },
         "name": "Cachaça Rio do Engenho Prata 70cl 38% - IABA incluido 4.26€",
         "offsetgroup": "Cachaça Rio do Engenho Prata 70cl 38% - IABA incluido 4.26€",
         "orientation": "h",
         "showlegend": true,
         "text": [
          20.1
         ],
         "textposition": "auto",
         "type": "bar",
         "x": [
          20.1
         ],
         "xaxis": "x",
         "y": [
          "EUFORIA DOS AROMAS – ACTIVIDADES HOTELEIRAS LDA -"
         ],
         "yaxis": "y"
        },
        {
         "alignmentgroup": "True",
         "hovertemplate": "<b>%{hovertext}</b><br><br>Nome Artigo=Cachaça Caboclinha Prata 70cl 42% - IABA incluido 4.71€<br>Total Movimentado=%{text}<br>Cliente=%{y}<extra></extra>",
         "hovertext": [
          "Sparkling Pocket Unip LDA - CopaLisboa"
         ],
         "legendgroup": "Cachaça Caboclinha Prata 70cl 42% - IABA incluido 4.71€",
         "marker": {
          "color": "#EF553B",
          "pattern": {
           "shape": ""
          }
         },
         "name": "Cachaça Caboclinha Prata 70cl 42% - IABA incluido 4.71€",
         "offsetgroup": "Cachaça Caboclinha Prata 70cl 42% - IABA incluido 4.71€",
         "orientation": "h",
         "showlegend": true,
         "text": [
          19.5
         ],
         "textposition": "auto",
         "type": "bar",
         "x": [
          19.5
         ],
         "xaxis": "x",
         "y": [
          "Sparkling Pocket Unip LDA - CopaLisboa"
         ],
         "yaxis": "y"
        },
        {
         "alignmentgroup": "True",
         "hovertemplate": "<b>%{hovertext}</b><br><br>Nome Artigo=Cachaça Canabella Prata 70cl 40% - IABA incluido 4.49€<br>Total Movimentado=%{text}<br>Cliente=%{y}<extra></extra>",
         "hovertext": [
          "Adeptos D’alecrim Lda - Copa Barrafina"
         ],
         "legendgroup": "Cachaça Canabella Prata 70cl 40% - IABA incluido 4.49€",
         "marker": {
          "color": "#00cc96",
          "pattern": {
           "shape": ""
          }
         },
         "name": "Cachaça Canabella Prata 70cl 40% - IABA incluido 4.49€",
         "offsetgroup": "Cachaça Canabella Prata 70cl 40% - IABA incluido 4.49€",
         "orientation": "h",
         "showlegend": true,
         "text": [
          19.1
         ],
         "textposition": "auto",
         "type": "bar",
         "x": [
          19.1
         ],
         "xaxis": "x",
         "y": [
          "Adeptos D’alecrim Lda - Copa Barrafina"
         ],
         "yaxis": "y"
        },
        {
         "alignmentgroup": "True",
         "hovertemplate": "<b>%{hovertext}</b><br><br>Nome Artigo=Licor Creme de Coco João Mendes 50cl 15% - IABA incluido 1.20€<br>Total Movimentado=%{text}<br>Cliente=%{y}<extra></extra>",
         "hovertext": [
          "Culminar D`Ideias Lda - O Fatica",
          "Ilidio Almeida"
         ],
         "legendgroup": "Licor Creme de Coco João Mendes 50cl 15% - IABA incluido 1.20€",
         "marker": {
          "color": "#ab63fa",
          "pattern": {
           "shape": ""
          }
         },
         "name": "Licor Creme de Coco João Mendes 50cl 15% - IABA incluido 1.20€",
         "offsetgroup": "Licor Creme de Coco João Mendes 50cl 15% - IABA incluido 1.20€",
         "orientation": "h",
         "showlegend": true,
         "text": [
          16.15,
          16.15
         ],
         "textposition": "auto",
         "type": "bar",
         "x": [
          16.15,
          16.15
         ],
         "xaxis": "x",
         "y": [
          "Culminar D`Ideias Lda - O Fatica",
          "Ilidio Almeida"
         ],
         "yaxis": "y"
        },
        {
         "alignmentgroup": "True",
         "hovertemplate": "<b>%{hovertext}</b><br><br>Nome Artigo=Licor Creme de Chocolate 50cl 15% - IABA incluido 1.20€<br>Total Movimentado=%{text}<br>Cliente=%{y}<extra></extra>",
         "hovertext": [
          "Marcelo Moschetti - Cachaçaria Lda"
         ],
         "legendgroup": "Licor Creme de Chocolate 50cl 15% - IABA incluido 1.20€",
         "marker": {
          "color": "#FFA15A",
          "pattern": {
           "shape": ""
          }
         },
         "name": "Licor Creme de Chocolate 50cl 15% - IABA incluido 1.20€",
         "offsetgroup": "Licor Creme de Chocolate 50cl 15% - IABA incluido 1.20€",
         "orientation": "h",
         "showlegend": true,
         "text": [
          16.15
         ],
         "textposition": "auto",
         "type": "bar",
         "x": [
          16.15
         ],
         "xaxis": "x",
         "y": [
          "Marcelo Moschetti - Cachaçaria Lda"
         ],
         "yaxis": "y"
        },
        {
         "alignmentgroup": "True",
         "hovertemplate": "<b>%{hovertext}</b><br><br>Nome Artigo=GLS Delivery Mercado Interno<br>Total Movimentado=%{text}<br>Cliente=%{y}<extra></extra>",
         "hovertext": [
          "Sparkling Pocket Unip LDA - CopaLisboa",
          "Wilder Miranda UNIP LDA - Sol Brasil",
          "Marcelo Moschetti - Cachaçaria Lda",
          "EUFORIA DOS AROMAS – ACTIVIDADES HOTELEIRAS LDA -",
          "Adeptos D’alecrim Lda - Copa Barrafina",
          "Cruel Restaurante Unip. Lda",
          "TOCA DAS ARTES - NÚCLEO CULTURAL",
          "CALCULCORNUCÓPIA LDA - Vino Vero",
          "Culminar D`Ideias Lda - O Fatica",
          "PALADARES DO PARAÍSO - LDA - Palaphita",
          "Worldlounge, lda - Wine & Books Hotel Porto",
          "TEMPERO LIQUIDO LDA - Curioso Cocktail Bar",
          "Rodrigo Waddington"
         ],
         "legendgroup": "GLS Delivery Mercado Interno",
         "marker": {
          "color": "#19d3f3",
          "pattern": {
           "shape": ""
          }
         },
         "name": "GLS Delivery Mercado Interno",
         "offsetgroup": "GLS Delivery Mercado Interno",
         "orientation": "h",
         "showlegend": true,
         "text": [
          15.1,
          15.1,
          14.19,
          7.55,
          5.59,
          5.59,
          5.59,
          5.59,
          5.59,
          5.59,
          5.59,
          5.59,
          4.72
         ],
         "textposition": "auto",
         "type": "bar",
         "x": [
          15.1,
          15.1,
          14.19,
          7.55,
          5.59,
          5.59,
          5.59,
          5.59,
          5.59,
          5.59,
          5.59,
          5.59,
          4.72
         ],
         "xaxis": "x",
         "y": [
          "Sparkling Pocket Unip LDA - CopaLisboa",
          "Wilder Miranda UNIP LDA - Sol Brasil",
          "Marcelo Moschetti - Cachaçaria Lda",
          "EUFORIA DOS AROMAS – ACTIVIDADES HOTELEIRAS LDA -",
          "Adeptos D’alecrim Lda - Copa Barrafina",
          "Cruel Restaurante Unip. Lda",
          "TOCA DAS ARTES - NÚCLEO CULTURAL",
          "CALCULCORNUCÓPIA LDA - Vino Vero",
          "Culminar D`Ideias Lda - O Fatica",
          "PALADARES DO PARAÍSO - LDA - Palaphita",
          "Worldlounge, lda - Wine & Books Hotel Porto",
          "TEMPERO LIQUIDO LDA - Curioso Cocktail Bar",
          "Rodrigo Waddington"
         ],
         "yaxis": "y"
        },
        {
         "alignmentgroup": "True",
         "hovertemplate": "<b>%{hovertext}</b><br><br>Nome Artigo=Licor Cravo e Canela João Mendes 50cl 15% - IABA incluído 1.20€<br>Total Movimentado=%{text}<br>Cliente=%{y}<extra></extra>",
         "hovertext": [
          "Culminar D`Ideias Lda - O Fatica"
         ],
         "legendgroup": "Licor Cravo e Canela João Mendes 50cl 15% - IABA incluído 1.20€",
         "marker": {
          "color": "#FF6692",
          "pattern": {
           "shape": ""
          }
         },
         "name": "Licor Cravo e Canela João Mendes 50cl 15% - IABA incluído 1.20€",
         "offsetgroup": "Licor Cravo e Canela João Mendes 50cl 15% - IABA incluído 1.20€",
         "orientation": "h",
         "showlegend": true,
         "text": [
          14.97
         ],
         "textposition": "auto",
         "type": "bar",
         "x": [
          14.97
         ],
         "xaxis": "x",
         "y": [
          "Culminar D`Ideias Lda - O Fatica"
         ],
         "yaxis": "y"
        },
        {
         "alignmentgroup": "True",
         "hovertemplate": "<b>%{hovertext}</b><br><br>Nome Artigo=Cachaça Bockorny Amburana 70cl 38% - IABA incluido 4.26€<br>Total Movimentado=%{text}<br>Cliente=%{y}<extra></extra>",
         "hovertext": [
          "Consumidor Final"
         ],
         "legendgroup": "Cachaça Bockorny Amburana 70cl 38% - IABA incluido 4.26€",
         "marker": {
          "color": "#B6E880",
          "pattern": {
           "shape": ""
          }
         },
         "name": "Cachaça Bockorny Amburana 70cl 38% - IABA incluido 4.26€",
         "offsetgroup": "Cachaça Bockorny Amburana 70cl 38% - IABA incluido 4.26€",
         "orientation": "h",
         "showlegend": true,
         "text": [
          0
         ],
         "textposition": "auto",
         "type": "bar",
         "x": [
          0
         ],
         "xaxis": "x",
         "y": [
          "Consumidor Final"
         ],
         "yaxis": "y"
        },
        {
         "alignmentgroup": "True",
         "hovertemplate": "<b>%{hovertext}</b><br><br>Nome Artigo=Cachaça Sapucaia Amendoim 70cl 40.5% - IABA incluido 4.54€<br>Total Movimentado=%{text}<br>Cliente=%{y}<extra></extra>",
         "hovertext": [
          "Consumidor Final"
         ],
         "legendgroup": "Cachaça Sapucaia Amendoim 70cl 40.5% - IABA incluido 4.54€",
         "marker": {
          "color": "#FF97FF",
          "pattern": {
           "shape": ""
          }
         },
         "name": "Cachaça Sapucaia Amendoim 70cl 40.5% - IABA incluido 4.54€",
         "offsetgroup": "Cachaça Sapucaia Amendoim 70cl 40.5% - IABA incluido 4.54€",
         "orientation": "h",
         "showlegend": true,
         "text": [
          0
         ],
         "textposition": "auto",
         "type": "bar",
         "x": [
          0
         ],
         "xaxis": "x",
         "y": [
          "Consumidor Final"
         ],
         "yaxis": "y"
        },
        {
         "alignmentgroup": "True",
         "hovertemplate": "<b>%{hovertext}</b><br><br>Nome Artigo=Cachaça Sapucaia Carvalho 70cl 40.5% - IABA incluido 4.54€<br>Total Movimentado=%{text}<br>Cliente=%{y}<extra></extra>",
         "hovertext": [
          "Consumidor Final"
         ],
         "legendgroup": "Cachaça Sapucaia Carvalho 70cl 40.5% - IABA incluido 4.54€",
         "marker": {
          "color": "#FECB52",
          "pattern": {
           "shape": ""
          }
         },
         "name": "Cachaça Sapucaia Carvalho 70cl 40.5% - IABA incluido 4.54€",
         "offsetgroup": "Cachaça Sapucaia Carvalho 70cl 40.5% - IABA incluido 4.54€",
         "orientation": "h",
         "showlegend": true,
         "text": [
          0
         ],
         "textposition": "auto",
         "type": "bar",
         "x": [
          0
         ],
         "xaxis": "x",
         "y": [
          "Consumidor Final"
         ],
         "yaxis": "y"
        }
       ],
       "layout": {
        "barmode": "relative",
        "height": 1000,
        "legend": {
         "title": {
          "text": "Nome Artigo"
         },
         "tracegroupgap": 0
        },
        "template": {
         "data": {
          "bar": [
           {
            "error_x": {
             "color": "#f2f5fa"
            },
            "error_y": {
             "color": "#f2f5fa"
            },
            "marker": {
             "line": {
              "color": "rgb(17,17,17)",
              "width": 0.5
             },
             "pattern": {
              "fillmode": "overlay",
              "size": 10,
              "solidity": 0.2
             }
            },
            "type": "bar"
           }
          ],
          "barpolar": [
           {
            "marker": {
             "line": {
              "color": "rgb(17,17,17)",
              "width": 0.5
             },
             "pattern": {
              "fillmode": "overlay",
              "size": 10,
              "solidity": 0.2
             }
            },
            "type": "barpolar"
           }
          ],
          "carpet": [
           {
            "aaxis": {
             "endlinecolor": "#A2B1C6",
             "gridcolor": "#506784",
             "linecolor": "#506784",
             "minorgridcolor": "#506784",
             "startlinecolor": "#A2B1C6"
            },
            "baxis": {
             "endlinecolor": "#A2B1C6",
             "gridcolor": "#506784",
             "linecolor": "#506784",
             "minorgridcolor": "#506784",
             "startlinecolor": "#A2B1C6"
            },
            "type": "carpet"
           }
          ],
          "choropleth": [
           {
            "colorbar": {
             "outlinewidth": 0,
             "ticks": ""
            },
            "type": "choropleth"
           }
          ],
          "contour": [
           {
            "colorbar": {
             "outlinewidth": 0,
             "ticks": ""
            },
            "colorscale": [
             [
              0,
              "#0d0887"
             ],
             [
              0.1111111111111111,
              "#46039f"
             ],
             [
              0.2222222222222222,
              "#7201a8"
             ],
             [
              0.3333333333333333,
              "#9c179e"
             ],
             [
              0.4444444444444444,
              "#bd3786"
             ],
             [
              0.5555555555555556,
              "#d8576b"
             ],
             [
              0.6666666666666666,
              "#ed7953"
             ],
             [
              0.7777777777777778,
              "#fb9f3a"
             ],
             [
              0.8888888888888888,
              "#fdca26"
             ],
             [
              1,
              "#f0f921"
             ]
            ],
            "type": "contour"
           }
          ],
          "contourcarpet": [
           {
            "colorbar": {
             "outlinewidth": 0,
             "ticks": ""
            },
            "type": "contourcarpet"
           }
          ],
          "heatmap": [
           {
            "colorbar": {
             "outlinewidth": 0,
             "ticks": ""
            },
            "colorscale": [
             [
              0,
              "#0d0887"
             ],
             [
              0.1111111111111111,
              "#46039f"
             ],
             [
              0.2222222222222222,
              "#7201a8"
             ],
             [
              0.3333333333333333,
              "#9c179e"
             ],
             [
              0.4444444444444444,
              "#bd3786"
             ],
             [
              0.5555555555555556,
              "#d8576b"
             ],
             [
              0.6666666666666666,
              "#ed7953"
             ],
             [
              0.7777777777777778,
              "#fb9f3a"
             ],
             [
              0.8888888888888888,
              "#fdca26"
             ],
             [
              1,
              "#f0f921"
             ]
            ],
            "type": "heatmap"
           }
          ],
          "heatmapgl": [
           {
            "colorbar": {
             "outlinewidth": 0,
             "ticks": ""
            },
            "colorscale": [
             [
              0,
              "#0d0887"
             ],
             [
              0.1111111111111111,
              "#46039f"
             ],
             [
              0.2222222222222222,
              "#7201a8"
             ],
             [
              0.3333333333333333,
              "#9c179e"
             ],
             [
              0.4444444444444444,
              "#bd3786"
             ],
             [
              0.5555555555555556,
              "#d8576b"
             ],
             [
              0.6666666666666666,
              "#ed7953"
             ],
             [
              0.7777777777777778,
              "#fb9f3a"
             ],
             [
              0.8888888888888888,
              "#fdca26"
             ],
             [
              1,
              "#f0f921"
             ]
            ],
            "type": "heatmapgl"
           }
          ],
          "histogram": [
           {
            "marker": {
             "pattern": {
              "fillmode": "overlay",
              "size": 10,
              "solidity": 0.2
             }
            },
            "type": "histogram"
           }
          ],
          "histogram2d": [
           {
            "colorbar": {
             "outlinewidth": 0,
             "ticks": ""
            },
            "colorscale": [
             [
              0,
              "#0d0887"
             ],
             [
              0.1111111111111111,
              "#46039f"
             ],
             [
              0.2222222222222222,
              "#7201a8"
             ],
             [
              0.3333333333333333,
              "#9c179e"
             ],
             [
              0.4444444444444444,
              "#bd3786"
             ],
             [
              0.5555555555555556,
              "#d8576b"
             ],
             [
              0.6666666666666666,
              "#ed7953"
             ],
             [
              0.7777777777777778,
              "#fb9f3a"
             ],
             [
              0.8888888888888888,
              "#fdca26"
             ],
             [
              1,
              "#f0f921"
             ]
            ],
            "type": "histogram2d"
           }
          ],
          "histogram2dcontour": [
           {
            "colorbar": {
             "outlinewidth": 0,
             "ticks": ""
            },
            "colorscale": [
             [
              0,
              "#0d0887"
             ],
             [
              0.1111111111111111,
              "#46039f"
             ],
             [
              0.2222222222222222,
              "#7201a8"
             ],
             [
              0.3333333333333333,
              "#9c179e"
             ],
             [
              0.4444444444444444,
              "#bd3786"
             ],
             [
              0.5555555555555556,
              "#d8576b"
             ],
             [
              0.6666666666666666,
              "#ed7953"
             ],
             [
              0.7777777777777778,
              "#fb9f3a"
             ],
             [
              0.8888888888888888,
              "#fdca26"
             ],
             [
              1,
              "#f0f921"
             ]
            ],
            "type": "histogram2dcontour"
           }
          ],
          "mesh3d": [
           {
            "colorbar": {
             "outlinewidth": 0,
             "ticks": ""
            },
            "type": "mesh3d"
           }
          ],
          "parcoords": [
           {
            "line": {
             "colorbar": {
              "outlinewidth": 0,
              "ticks": ""
             }
            },
            "type": "parcoords"
           }
          ],
          "pie": [
           {
            "automargin": true,
            "type": "pie"
           }
          ],
          "scatter": [
           {
            "marker": {
             "line": {
              "color": "#283442"
             }
            },
            "type": "scatter"
           }
          ],
          "scatter3d": [
           {
            "line": {
             "colorbar": {
              "outlinewidth": 0,
              "ticks": ""
             }
            },
            "marker": {
             "colorbar": {
              "outlinewidth": 0,
              "ticks": ""
             }
            },
            "type": "scatter3d"
           }
          ],
          "scattercarpet": [
           {
            "marker": {
             "colorbar": {
              "outlinewidth": 0,
              "ticks": ""
             }
            },
            "type": "scattercarpet"
           }
          ],
          "scattergeo": [
           {
            "marker": {
             "colorbar": {
              "outlinewidth": 0,
              "ticks": ""
             }
            },
            "type": "scattergeo"
           }
          ],
          "scattergl": [
           {
            "marker": {
             "line": {
              "color": "#283442"
             }
            },
            "type": "scattergl"
           }
          ],
          "scattermapbox": [
           {
            "marker": {
             "colorbar": {
              "outlinewidth": 0,
              "ticks": ""
             }
            },
            "type": "scattermapbox"
           }
          ],
          "scatterpolar": [
           {
            "marker": {
             "colorbar": {
              "outlinewidth": 0,
              "ticks": ""
             }
            },
            "type": "scatterpolar"
           }
          ],
          "scatterpolargl": [
           {
            "marker": {
             "colorbar": {
              "outlinewidth": 0,
              "ticks": ""
             }
            },
            "type": "scatterpolargl"
           }
          ],
          "scatterternary": [
           {
            "marker": {
             "colorbar": {
              "outlinewidth": 0,
              "ticks": ""
             }
            },
            "type": "scatterternary"
           }
          ],
          "surface": [
           {
            "colorbar": {
             "outlinewidth": 0,
             "ticks": ""
            },
            "colorscale": [
             [
              0,
              "#0d0887"
             ],
             [
              0.1111111111111111,
              "#46039f"
             ],
             [
              0.2222222222222222,
              "#7201a8"
             ],
             [
              0.3333333333333333,
              "#9c179e"
             ],
             [
              0.4444444444444444,
              "#bd3786"
             ],
             [
              0.5555555555555556,
              "#d8576b"
             ],
             [
              0.6666666666666666,
              "#ed7953"
             ],
             [
              0.7777777777777778,
              "#fb9f3a"
             ],
             [
              0.8888888888888888,
              "#fdca26"
             ],
             [
              1,
              "#f0f921"
             ]
            ],
            "type": "surface"
           }
          ],
          "table": [
           {
            "cells": {
             "fill": {
              "color": "#506784"
             },
             "line": {
              "color": "rgb(17,17,17)"
             }
            },
            "header": {
             "fill": {
              "color": "#2a3f5f"
             },
             "line": {
              "color": "rgb(17,17,17)"
             }
            },
            "type": "table"
           }
          ]
         },
         "layout": {
          "annotationdefaults": {
           "arrowcolor": "#f2f5fa",
           "arrowhead": 0,
           "arrowwidth": 1
          },
          "autotypenumbers": "strict",
          "coloraxis": {
           "colorbar": {
            "outlinewidth": 0,
            "ticks": ""
           }
          },
          "colorscale": {
           "diverging": [
            [
             0,
             "#8e0152"
            ],
            [
             0.1,
             "#c51b7d"
            ],
            [
             0.2,
             "#de77ae"
            ],
            [
             0.3,
             "#f1b6da"
            ],
            [
             0.4,
             "#fde0ef"
            ],
            [
             0.5,
             "#f7f7f7"
            ],
            [
             0.6,
             "#e6f5d0"
            ],
            [
             0.7,
             "#b8e186"
            ],
            [
             0.8,
             "#7fbc41"
            ],
            [
             0.9,
             "#4d9221"
            ],
            [
             1,
             "#276419"
            ]
           ],
           "sequential": [
            [
             0,
             "#0d0887"
            ],
            [
             0.1111111111111111,
             "#46039f"
            ],
            [
             0.2222222222222222,
             "#7201a8"
            ],
            [
             0.3333333333333333,
             "#9c179e"
            ],
            [
             0.4444444444444444,
             "#bd3786"
            ],
            [
             0.5555555555555556,
             "#d8576b"
            ],
            [
             0.6666666666666666,
             "#ed7953"
            ],
            [
             0.7777777777777778,
             "#fb9f3a"
            ],
            [
             0.8888888888888888,
             "#fdca26"
            ],
            [
             1,
             "#f0f921"
            ]
           ],
           "sequentialminus": [
            [
             0,
             "#0d0887"
            ],
            [
             0.1111111111111111,
             "#46039f"
            ],
            [
             0.2222222222222222,
             "#7201a8"
            ],
            [
             0.3333333333333333,
             "#9c179e"
            ],
            [
             0.4444444444444444,
             "#bd3786"
            ],
            [
             0.5555555555555556,
             "#d8576b"
            ],
            [
             0.6666666666666666,
             "#ed7953"
            ],
            [
             0.7777777777777778,
             "#fb9f3a"
            ],
            [
             0.8888888888888888,
             "#fdca26"
            ],
            [
             1,
             "#f0f921"
            ]
           ]
          },
          "colorway": [
           "#636efa",
           "#EF553B",
           "#00cc96",
           "#ab63fa",
           "#FFA15A",
           "#19d3f3",
           "#FF6692",
           "#B6E880",
           "#FF97FF",
           "#FECB52"
          ],
          "font": {
           "color": "#f2f5fa"
          },
          "geo": {
           "bgcolor": "rgb(17,17,17)",
           "lakecolor": "rgb(17,17,17)",
           "landcolor": "rgb(17,17,17)",
           "showlakes": true,
           "showland": true,
           "subunitcolor": "#506784"
          },
          "hoverlabel": {
           "align": "left"
          },
          "hovermode": "closest",
          "mapbox": {
           "style": "dark"
          },
          "paper_bgcolor": "rgb(17,17,17)",
          "plot_bgcolor": "rgb(17,17,17)",
          "polar": {
           "angularaxis": {
            "gridcolor": "#506784",
            "linecolor": "#506784",
            "ticks": ""
           },
           "bgcolor": "rgb(17,17,17)",
           "radialaxis": {
            "gridcolor": "#506784",
            "linecolor": "#506784",
            "ticks": ""
           }
          },
          "scene": {
           "xaxis": {
            "backgroundcolor": "rgb(17,17,17)",
            "gridcolor": "#506784",
            "gridwidth": 2,
            "linecolor": "#506784",
            "showbackground": true,
            "ticks": "",
            "zerolinecolor": "#C8D4E3"
           },
           "yaxis": {
            "backgroundcolor": "rgb(17,17,17)",
            "gridcolor": "#506784",
            "gridwidth": 2,
            "linecolor": "#506784",
            "showbackground": true,
            "ticks": "",
            "zerolinecolor": "#C8D4E3"
           },
           "zaxis": {
            "backgroundcolor": "rgb(17,17,17)",
            "gridcolor": "#506784",
            "gridwidth": 2,
            "linecolor": "#506784",
            "showbackground": true,
            "ticks": "",
            "zerolinecolor": "#C8D4E3"
           }
          },
          "shapedefaults": {
           "line": {
            "color": "#f2f5fa"
           }
          },
          "sliderdefaults": {
           "bgcolor": "#C8D4E3",
           "bordercolor": "rgb(17,17,17)",
           "borderwidth": 1,
           "tickwidth": 0
          },
          "ternary": {
           "aaxis": {
            "gridcolor": "#506784",
            "linecolor": "#506784",
            "ticks": ""
           },
           "baxis": {
            "gridcolor": "#506784",
            "linecolor": "#506784",
            "ticks": ""
           },
           "bgcolor": "rgb(17,17,17)",
           "caxis": {
            "gridcolor": "#506784",
            "linecolor": "#506784",
            "ticks": ""
           }
          },
          "title": {
           "x": 0.05
          },
          "updatemenudefaults": {
           "bgcolor": "#506784",
           "borderwidth": 0
          },
          "xaxis": {
           "automargin": true,
           "gridcolor": "#283442",
           "linecolor": "#506784",
           "ticks": "",
           "title": {
            "standoff": 15
           },
           "zerolinecolor": "#283442",
           "zerolinewidth": 2
          },
          "yaxis": {
           "automargin": true,
           "gridcolor": "#283442",
           "linecolor": "#506784",
           "ticks": "",
           "title": {
            "standoff": 15
           },
           "zerolinecolor": "#283442",
           "zerolinewidth": 2
          }
         }
        },
        "title": {
         "text": "Receita Liquida por Cliente"
        },
        "width": 2000,
        "xaxis": {
         "anchor": "y",
         "domain": [
          0,
          1
         ],
         "title": {
          "text": "Total Movimentado"
         }
        },
        "yaxis": {
         "anchor": "x",
         "categoryorder": "total ascending",
         "domain": [
          0,
          1
         ],
         "title": {
          "text": "Cliente"
         }
        }
       }
      }
     },
     "metadata": {},
     "output_type": "display_data"
    }
   ],
   "source": [
    "\n",
    "fig_cliente = px.bar(gasto_cliente_produto, x='Liquido Mov.', y='Nome', title='Receita Liquida por Cliente'\n",
    "                        , labels={'Liquido Mov.': 'Total Movimentado', 'Nome': 'Cliente'}, orientation='h'\n",
    "                        , color='Nome Artigo', height=1000, width=2000,\n",
    "                        template='plotly_dark', hover_name='Nome', hover_data=['Liquido Mov.'], text='Liquido Mov.')\n",
    "\n",
    "fig_cliente = fig_cliente.update_layout(yaxis_categoryorder='total ascending')\n",
    "fig_cliente.show()"
   ]
  },
  {
   "cell_type": "code",
   "execution_count": null,
   "metadata": {},
   "outputs": [
    {
     "data": {
      "application/vnd.plotly.v1+json": {
       "config": {
        "plotlyServerURL": "https://plot.ly"
       },
       "data": [
        {
         "alignmentgroup": "True",
         "hovertemplate": "<b>%{hovertext}</b><br><br>Nome=Isle of Hackney Limited - Rafael D´Aló<br>Total Movimentado=%{text}<br>Produto=%{y}<extra></extra>",
         "hovertext": [
          "Organização de Evento"
         ],
         "legendgroup": "Isle of Hackney Limited - Rafael D´Aló",
         "marker": {
          "color": "#636efa",
          "pattern": {
           "shape": ""
          }
         },
         "name": "Isle of Hackney Limited - Rafael D´Aló",
         "offsetgroup": "Isle of Hackney Limited - Rafael D´Aló",
         "orientation": "h",
         "showlegend": true,
         "text": [
          1670.01
         ],
         "textposition": "auto",
         "type": "bar",
         "x": [
          1670.01
         ],
         "xaxis": "x",
         "y": [
          "Organização de Evento"
         ],
         "yaxis": "y"
        },
        {
         "alignmentgroup": "True",
         "hovertemplate": "<b>%{hovertext}</b><br><br>Nome=Fernandes & CIA LTDA - Engenho São Paulo<br>Total Movimentado=%{text}<br>Produto=%{y}<extra></extra>",
         "hovertext": [
          "Organização de Evento"
         ],
         "legendgroup": "Fernandes & CIA LTDA - Engenho São Paulo",
         "marker": {
          "color": "#EF553B",
          "pattern": {
           "shape": ""
          }
         },
         "name": "Fernandes & CIA LTDA - Engenho São Paulo",
         "offsetgroup": "Fernandes & CIA LTDA - Engenho São Paulo",
         "orientation": "h",
         "showlegend": true,
         "text": [
          1670.01
         ],
         "textposition": "auto",
         "type": "bar",
         "x": [
          1670.01
         ],
         "xaxis": "x",
         "y": [
          "Organização de Evento"
         ],
         "yaxis": "y"
        },
        {
         "alignmentgroup": "True",
         "hovertemplate": "<b>%{hovertext}</b><br><br>Nome=L M Porto<br>Total Movimentado=%{text}<br>Produto=%{y}<extra></extra>",
         "hovertext": [
          "Organização de Evento"
         ],
         "legendgroup": "L M Porto",
         "marker": {
          "color": "#00cc96",
          "pattern": {
           "shape": ""
          }
         },
         "name": "L M Porto",
         "offsetgroup": "L M Porto",
         "orientation": "h",
         "showlegend": true,
         "text": [
          1670.01
         ],
         "textposition": "auto",
         "type": "bar",
         "x": [
          1670.01
         ],
         "xaxis": "x",
         "y": [
          "Organização de Evento"
         ],
         "yaxis": "y"
        },
        {
         "alignmentgroup": "True",
         "hovertemplate": "<b>%{hovertext}</b><br><br>Nome=Vanderley Pereira de Azevedo<br>Total Movimentado=%{text}<br>Produto=%{y}<extra></extra>",
         "hovertext": [
          "Organização de Evento"
         ],
         "legendgroup": "Vanderley Pereira de Azevedo",
         "marker": {
          "color": "#ab63fa",
          "pattern": {
           "shape": ""
          }
         },
         "name": "Vanderley Pereira de Azevedo",
         "offsetgroup": "Vanderley Pereira de Azevedo",
         "orientation": "h",
         "showlegend": true,
         "text": [
          1670.01
         ],
         "textposition": "auto",
         "type": "bar",
         "x": [
          1670.01
         ],
         "xaxis": "x",
         "y": [
          "Organização de Evento"
         ],
         "yaxis": "y"
        },
        {
         "alignmentgroup": "True",
         "hovertemplate": "<b>%{hovertext}</b><br><br>Nome=DESTILARIA BATISTA LTDA - EPP<br>Total Movimentado=%{text}<br>Produto=%{y}<extra></extra>",
         "hovertext": [
          "Organização de Evento"
         ],
         "legendgroup": "DESTILARIA BATISTA LTDA - EPP",
         "marker": {
          "color": "#FFA15A",
          "pattern": {
           "shape": ""
          }
         },
         "name": "DESTILARIA BATISTA LTDA - EPP",
         "offsetgroup": "DESTILARIA BATISTA LTDA - EPP",
         "orientation": "h",
         "showlegend": true,
         "text": [
          1670
         ],
         "textposition": "auto",
         "type": "bar",
         "x": [
          1670
         ],
         "xaxis": "x",
         "y": [
          "Organização de Evento"
         ],
         "yaxis": "y"
        },
        {
         "alignmentgroup": "True",
         "hovertemplate": "<b>%{hovertext}</b><br><br>Nome=JAMBUZERA COMERCIO DE BEBIDA LTDA<br>Total Movimentado=%{text}<br>Produto=%{y}<extra></extra>",
         "hovertext": [
          "Organização de Evento"
         ],
         "legendgroup": "JAMBUZERA COMERCIO DE BEBIDA LTDA",
         "marker": {
          "color": "#19d3f3",
          "pattern": {
           "shape": ""
          }
         },
         "name": "JAMBUZERA COMERCIO DE BEBIDA LTDA",
         "offsetgroup": "JAMBUZERA COMERCIO DE BEBIDA LTDA",
         "orientation": "h",
         "showlegend": true,
         "text": [
          1670
         ],
         "textposition": "auto",
         "type": "bar",
         "x": [
          1670
         ],
         "xaxis": "x",
         "y": [
          "Organização de Evento"
         ],
         "yaxis": "y"
        },
        {
         "alignmentgroup": "True",
         "hovertemplate": "<b>%{hovertext}</b><br><br>Nome=Rio do Engenho Ind. Com. Import Export. de Bebidas<br>Total Movimentado=%{text}<br>Produto=%{y}<extra></extra>",
         "hovertext": [
          "Organização de Evento"
         ],
         "legendgroup": "Rio do Engenho Ind. Com. Import Export. de Bebidas",
         "marker": {
          "color": "#FF6692",
          "pattern": {
           "shape": ""
          }
         },
         "name": "Rio do Engenho Ind. Com. Import Export. de Bebidas",
         "offsetgroup": "Rio do Engenho Ind. Com. Import Export. de Bebidas",
         "orientation": "h",
         "showlegend": true,
         "text": [
          1670
         ],
         "textposition": "auto",
         "type": "bar",
         "x": [
          1670
         ],
         "xaxis": "x",
         "y": [
          "Organização de Evento"
         ],
         "yaxis": "y"
        },
        {
         "alignmentgroup": "True",
         "hovertemplate": "<b>%{hovertext}</b><br><br>Nome=Cachaça João Mendes LTDA EPP<br>Total Movimentado=%{text}<br>Produto=%{y}<extra></extra>",
         "hovertext": [
          "Organização de Evento"
         ],
         "legendgroup": "Cachaça João Mendes LTDA EPP",
         "marker": {
          "color": "#B6E880",
          "pattern": {
           "shape": ""
          }
         },
         "name": "Cachaça João Mendes LTDA EPP",
         "offsetgroup": "Cachaça João Mendes LTDA EPP",
         "orientation": "h",
         "showlegend": true,
         "text": [
          1670
         ],
         "textposition": "auto",
         "type": "bar",
         "x": [
          1670
         ],
         "xaxis": "x",
         "y": [
          "Organização de Evento"
         ],
         "yaxis": "y"
        },
        {
         "alignmentgroup": "True",
         "hovertemplate": "<b>%{hovertext}</b><br><br>Nome=PORTO & WINCK LDA - Capim Dourado Braga<br>Total Movimentado=%{text}<br>Produto=%{y}<extra></extra>",
         "hovertext": [
          "A Cachaça Prata 70cl 38% - IABA incluido 4.26€"
         ],
         "legendgroup": "PORTO & WINCK LDA - Capim Dourado Braga",
         "marker": {
          "color": "#FF97FF",
          "pattern": {
           "shape": ""
          }
         },
         "name": "PORTO & WINCK LDA - Capim Dourado Braga",
         "offsetgroup": "PORTO & WINCK LDA - Capim Dourado Braga",
         "orientation": "h",
         "showlegend": true,
         "text": [
          1467.6
         ],
         "textposition": "auto",
         "type": "bar",
         "x": [
          1467.6
         ],
         "xaxis": "x",
         "y": [
          "A Cachaça Prata 70cl 38% - IABA incluido 4.26€"
         ],
         "yaxis": "y"
        },
        {
         "alignmentgroup": "True",
         "hovertemplate": "<b>%{hovertext}</b><br><br>Nome=JMW FOOD CONCEPTS UNIPESSOAL LDA - Capim Dourado<br>Total Movimentado=%{text}<br>Produto=%{y}<extra></extra>",
         "hovertext": [
          "A Cachaça Prata 70cl 38% - IABA incluido 4.26€"
         ],
         "legendgroup": "JMW FOOD CONCEPTS UNIPESSOAL LDA - Capim Dourado",
         "marker": {
          "color": "#FECB52",
          "pattern": {
           "shape": ""
          }
         },
         "name": "JMW FOOD CONCEPTS UNIPESSOAL LDA - Capim Dourado",
         "offsetgroup": "JMW FOOD CONCEPTS UNIPESSOAL LDA - Capim Dourado",
         "orientation": "h",
         "showlegend": true,
         "text": [
          1027.32
         ],
         "textposition": "auto",
         "type": "bar",
         "x": [
          1027.32
         ],
         "xaxis": "x",
         "y": [
          "A Cachaça Prata 70cl 38% - IABA incluido 4.26€"
         ],
         "yaxis": "y"
        },
        {
         "alignmentgroup": "True",
         "hovertemplate": "<b>%{hovertext}</b><br><br>Nome=Wilder Miranda UNIP LDA - Sol Brasil<br>Total Movimentado=%{text}<br>Produto=%{y}<extra></extra>",
         "hovertext": [
          "Cachaça com Jambu Jambuzera Orgânica 1L 38% - IABA incluido 6.09€",
          "Cachaça Rio do Engenho Reserva 70cl 38% - IABA incluido 4.26€",
          "Cachaça Amburana Carvalho Minas 70cl 42% - IABA incluido 4.71€",
          "A Cachaça Prata 70cl 38% - IABA incluido 4.26€",
          "GLS Delivery Mercado Interno"
         ],
         "legendgroup": "Wilder Miranda UNIP LDA - Sol Brasil",
         "marker": {
          "color": "#636efa",
          "pattern": {
           "shape": ""
          }
         },
         "name": "Wilder Miranda UNIP LDA - Sol Brasil",
         "offsetgroup": "Wilder Miranda UNIP LDA - Sol Brasil",
         "orientation": "h",
         "showlegend": true,
         "text": [
          319.7,
          153.79,
          69.3,
          51.88,
          15.1
         ],
         "textposition": "auto",
         "type": "bar",
         "x": [
          319.7,
          153.79,
          69.3,
          51.88,
          15.1
         ],
         "xaxis": "x",
         "y": [
          "Cachaça com Jambu Jambuzera Orgânica 1L 38% - IABA incluido 6.09€",
          "Cachaça Rio do Engenho Reserva 70cl 38% - IABA incluido 4.26€",
          "Cachaça Amburana Carvalho Minas 70cl 42% - IABA incluido 4.71€",
          "A Cachaça Prata 70cl 38% - IABA incluido 4.26€",
          "GLS Delivery Mercado Interno"
         ],
         "yaxis": "y"
        },
        {
         "alignmentgroup": "True",
         "hovertemplate": "<b>%{hovertext}</b><br><br>Nome=Marcelo Moschetti - Cachaçaria Lda<br>Total Movimentado=%{text}<br>Produto=%{y}<extra></extra>",
         "hovertext": [
          "Cachaça Pindorama Prata 70 cl 40% - IABA incluido 4.49€",
          "Cachaça Melicana Amburana 700ml 40% - IABA incluido 4.49€",
          "Cachaça com Jambu Jambuzera Orgânica 1L 38% - IABA incluido 6.09€",
          "Cachaça Tiê Balsamo 70cl 40% - IABA incluido 4.49€",
          "Cachaça 1922 Envelhecida 70cl 40% - IABA incluido 4.49€",
          "Cachaça Arbórea Carvalho e Amburana 70cl 39% - IABA incluido 4.37€",
          "Cachaça Rio do Engenho Reserva 70cl 38% - IABA incluido 4.26€",
          "Cachaça Caboclinha Jequitibá 70cl% - IABA incluido 4.71€",
          "Licor Creme de Chocolate 50cl 15% - IABA incluido 1.20€",
          "Licor Creme de Doce de Leite João Mendes 50cl 15% - IABA incluido 1.20€",
          "GLS Delivery Mercado Interno"
         ],
         "legendgroup": "Marcelo Moschetti - Cachaçaria Lda",
         "marker": {
          "color": "#EF553B",
          "pattern": {
           "shape": ""
          }
         },
         "name": "Marcelo Moschetti - Cachaçaria Lda",
         "offsetgroup": "Marcelo Moschetti - Cachaçaria Lda",
         "orientation": "h",
         "showlegend": true,
         "text": [
          261,
          62.61,
          31.97,
          28.4,
          26.5,
          21.97,
          21.97,
          20.3,
          16.15,
          16.15,
          14.19
         ],
         "textposition": "auto",
         "type": "bar",
         "x": [
          261,
          62.61,
          31.97,
          28.4,
          26.5,
          21.97,
          21.97,
          20.3,
          16.15,
          16.15,
          14.19
         ],
         "xaxis": "x",
         "y": [
          "Cachaça Pindorama Prata 70 cl 40% - IABA incluido 4.49€",
          "Cachaça Melicana Amburana 700ml 40% - IABA incluido 4.49€",
          "Cachaça com Jambu Jambuzera Orgânica 1L 38% - IABA incluido 6.09€",
          "Cachaça Tiê Balsamo 70cl 40% - IABA incluido 4.49€",
          "Cachaça 1922 Envelhecida 70cl 40% - IABA incluido 4.49€",
          "Cachaça Arbórea Carvalho e Amburana 70cl 39% - IABA incluido 4.37€",
          "Cachaça Rio do Engenho Reserva 70cl 38% - IABA incluido 4.26€",
          "Cachaça Caboclinha Jequitibá 70cl% - IABA incluido 4.71€",
          "Licor Creme de Chocolate 50cl 15% - IABA incluido 1.20€",
          "Licor Creme de Doce de Leite João Mendes 50cl 15% - IABA incluido 1.20€",
          "GLS Delivery Mercado Interno"
         ],
         "yaxis": "y"
        },
        {
         "alignmentgroup": "True",
         "hovertemplate": "<b>%{hovertext}</b><br><br>Nome=Cruel Restaurante Unip. Lda<br>Total Movimentado=%{text}<br>Produto=%{y}<extra></extra>",
         "hovertext": [
          "Cachaça com Jambu Jambuzera Orgânica 1L 38% - IABA incluido 6.09€",
          "GLS Delivery Mercado Interno"
         ],
         "legendgroup": "Cruel Restaurante Unip. Lda",
         "marker": {
          "color": "#00cc96",
          "pattern": {
           "shape": ""
          }
         },
         "name": "Cruel Restaurante Unip. Lda",
         "offsetgroup": "Cruel Restaurante Unip. Lda",
         "orientation": "h",
         "showlegend": true,
         "text": [
          191.82,
          5.59
         ],
         "textposition": "auto",
         "type": "bar",
         "x": [
          191.82,
          5.59
         ],
         "xaxis": "x",
         "y": [
          "Cachaça com Jambu Jambuzera Orgânica 1L 38% - IABA incluido 6.09€",
          "GLS Delivery Mercado Interno"
         ],
         "yaxis": "y"
        },
        {
         "alignmentgroup": "True",
         "hovertemplate": "<b>%{hovertext}</b><br><br>Nome=PALADARES DO PARAÍSO - LDA - Palaphita<br>Total Movimentado=%{text}<br>Produto=%{y}<extra></extra>",
         "hovertext": [
          "Cachaça com Jambu Jambuzera Orgânica 1L 38% - IABA incluido 6.09€",
          "GLS Delivery Mercado Interno"
         ],
         "legendgroup": "PALADARES DO PARAÍSO - LDA - Palaphita",
         "marker": {
          "color": "#ab63fa",
          "pattern": {
           "shape": ""
          }
         },
         "name": "PALADARES DO PARAÍSO - LDA - Palaphita",
         "offsetgroup": "PALADARES DO PARAÍSO - LDA - Palaphita",
         "orientation": "h",
         "showlegend": true,
         "text": [
          191.82,
          5.59
         ],
         "textposition": "auto",
         "type": "bar",
         "x": [
          191.82,
          5.59
         ],
         "xaxis": "x",
         "y": [
          "Cachaça com Jambu Jambuzera Orgânica 1L 38% - IABA incluido 6.09€",
          "GLS Delivery Mercado Interno"
         ],
         "yaxis": "y"
        },
        {
         "alignmentgroup": "True",
         "hovertemplate": "<b>%{hovertext}</b><br><br>Nome=MALINCONICO FRANCESCO - o Barão di Francesco Malin<br>Total Movimentado=%{text}<br>Produto=%{y}<extra></extra>",
         "hovertext": [
          "Cachaça com Jambu Jambuzera Orgânica 50cl 38% - IABA incluido 4.26€",
          "Cachaça Vanderley Azevedo Premium 70cl 40% - IABA incluido 4.49€",
          "Cachaça Weber Haus Canela Sassafras 70cl 38% - IABA incluido 4.26€",
          "Porte de Envio Mercado Extra"
         ],
         "legendgroup": "MALINCONICO FRANCESCO - o Barão di Francesco Malin",
         "marker": {
          "color": "#FFA15A",
          "pattern": {
           "shape": ""
          }
         },
         "name": "MALINCONICO FRANCESCO - o Barão di Francesco Malin",
         "offsetgroup": "MALINCONICO FRANCESCO - o Barão di Francesco Malin",
         "orientation": "h",
         "showlegend": true,
         "text": [
          183.2,
          70.6,
          50,
          30.25
         ],
         "textposition": "auto",
         "type": "bar",
         "x": [
          183.2,
          70.6,
          50,
          30.25
         ],
         "xaxis": "x",
         "y": [
          "Cachaça com Jambu Jambuzera Orgânica 50cl 38% - IABA incluido 4.26€",
          "Cachaça Vanderley Azevedo Premium 70cl 40% - IABA incluido 4.49€",
          "Cachaça Weber Haus Canela Sassafras 70cl 38% - IABA incluido 4.26€",
          "Porte de Envio Mercado Extra"
         ],
         "yaxis": "y"
        },
        {
         "alignmentgroup": "True",
         "hovertemplate": "<b>%{hovertext}</b><br><br>Nome=ROBERT SOUZA UNIPESSOAL LDA - Emporio Tuca<br>Total Movimentado=%{text}<br>Produto=%{y}<extra></extra>",
         "hovertext": [
          "A Cachaça Prata 70cl 38% - IABA incluido 4.26€",
          "Cachaça Tellura Jequitibá 70cl 40% - IABA incluido 4.49€",
          "Cachaça João Mendes Ouro 70cl 38% - IABA incluido 4.26€"
         ],
         "legendgroup": "ROBERT SOUZA UNIPESSOAL LDA - Emporio Tuca",
         "marker": {
          "color": "#19d3f3",
          "pattern": {
           "shape": ""
          }
         },
         "name": "ROBERT SOUZA UNIPESSOAL LDA - Emporio Tuca",
         "offsetgroup": "ROBERT SOUZA UNIPESSOAL LDA - Emporio Tuca",
         "orientation": "h",
         "showlegend": true,
         "text": [
          155.64,
          35.5,
          19.9
         ],
         "textposition": "auto",
         "type": "bar",
         "x": [
          155.64,
          35.5,
          19.9
         ],
         "xaxis": "x",
         "y": [
          "A Cachaça Prata 70cl 38% - IABA incluido 4.26€",
          "Cachaça Tellura Jequitibá 70cl 40% - IABA incluido 4.49€",
          "Cachaça João Mendes Ouro 70cl 38% - IABA incluido 4.26€"
         ],
         "yaxis": "y"
        },
        {
         "alignmentgroup": "True",
         "hovertemplate": "<b>%{hovertext}</b><br><br>Nome=Los Espetinhos Brasileiros SLU<br>Total Movimentado=%{text}<br>Produto=%{y}<extra></extra>",
         "hovertext": [
          "A Cachaça Prata 70cl 38% - IABA incluido 4.26€",
          "Cachaça W! Prime 70 cl 39% - IABA incluido 4.37€",
          "Cachaça com Jambu Jambuzera Orgânica 1L 38% - IABA incluido 6.09€",
          "Cachaça Vanderley Azevedo Black 70cl 40% - IABA incluido 4.49€",
          "Porte de Envio Mercado Extra"
         ],
         "legendgroup": "Los Espetinhos Brasileiros SLU",
         "marker": {
          "color": "#FF6692",
          "pattern": {
           "shape": ""
          }
         },
         "name": "Los Espetinhos Brasileiros SLU",
         "offsetgroup": "Los Espetinhos Brasileiros SLU",
         "orientation": "h",
         "showlegend": true,
         "text": [
          152.04,
          97.3,
          95.91,
          71.91,
          28.1
         ],
         "textposition": "auto",
         "type": "bar",
         "x": [
          152.04,
          97.3,
          95.91,
          71.91,
          28.1
         ],
         "xaxis": "x",
         "y": [
          "A Cachaça Prata 70cl 38% - IABA incluido 4.26€",
          "Cachaça W! Prime 70 cl 39% - IABA incluido 4.37€",
          "Cachaça com Jambu Jambuzera Orgânica 1L 38% - IABA incluido 6.09€",
          "Cachaça Vanderley Azevedo Black 70cl 40% - IABA incluido 4.49€",
          "Porte de Envio Mercado Extra"
         ],
         "yaxis": "y"
        },
        {
         "alignmentgroup": "True",
         "hovertemplate": "<b>%{hovertext}</b><br><br>Nome=TEMPERO LIQUIDO LDA - Curioso Cocktail Bar<br>Total Movimentado=%{text}<br>Produto=%{y}<extra></extra>",
         "hovertext": [
          "Cachaça Vanderley Azevedo Black 70cl 40% - IABA incluido 4.49€",
          "A Cachaça Prata 70cl 38% - IABA incluido 4.26€",
          "GLS Delivery Mercado Interno"
         ],
         "legendgroup": "TEMPERO LIQUIDO LDA - Curioso Cocktail Bar",
         "marker": {
          "color": "#B6E880",
          "pattern": {
           "shape": ""
          }
         },
         "name": "TEMPERO LIQUIDO LDA - Curioso Cocktail Bar",
         "offsetgroup": "TEMPERO LIQUIDO LDA - Curioso Cocktail Bar",
         "orientation": "h",
         "showlegend": true,
         "text": [
          143.82,
          77.82,
          5.59
         ],
         "textposition": "auto",
         "type": "bar",
         "x": [
          143.82,
          77.82,
          5.59
         ],
         "xaxis": "x",
         "y": [
          "Cachaça Vanderley Azevedo Black 70cl 40% - IABA incluido 4.49€",
          "A Cachaça Prata 70cl 38% - IABA incluido 4.26€",
          "GLS Delivery Mercado Interno"
         ],
         "yaxis": "y"
        },
        {
         "alignmentgroup": "True",
         "hovertemplate": "<b>%{hovertext}</b><br><br>Nome=Worldlounge, lda - Wine & Books Hotel Porto<br>Total Movimentado=%{text}<br>Produto=%{y}<extra></extra>",
         "hovertext": [
          "Cachaça Vanderley Azevedo Black 70cl 40% - IABA incluido 4.49€",
          "GLS Delivery Mercado Interno"
         ],
         "legendgroup": "Worldlounge, lda - Wine & Books Hotel Porto",
         "marker": {
          "color": "#FF97FF",
          "pattern": {
           "shape": ""
          }
         },
         "name": "Worldlounge, lda - Wine & Books Hotel Porto",
         "offsetgroup": "Worldlounge, lda - Wine & Books Hotel Porto",
         "orientation": "h",
         "showlegend": true,
         "text": [
          143.82,
          5.59
         ],
         "textposition": "auto",
         "type": "bar",
         "x": [
          143.82,
          5.59
         ],
         "xaxis": "x",
         "y": [
          "Cachaça Vanderley Azevedo Black 70cl 40% - IABA incluido 4.49€",
          "GLS Delivery Mercado Interno"
         ],
         "yaxis": "y"
        },
        {
         "alignmentgroup": "True",
         "hovertemplate": "<b>%{hovertext}</b><br><br>Nome=CALCULCORNUCÓPIA LDA - Vino Vero<br>Total Movimentado=%{text}<br>Produto=%{y}<extra></extra>",
         "hovertext": [
          "Cachaça com Jambu Jambuzera Orgânica 50cl 38% - IABA incluido 4.26€",
          "GLS Delivery Mercado Interno"
         ],
         "legendgroup": "CALCULCORNUCÓPIA LDA - Vino Vero",
         "marker": {
          "color": "#FECB52",
          "pattern": {
           "shape": ""
          }
         },
         "name": "CALCULCORNUCÓPIA LDA - Vino Vero",
         "offsetgroup": "CALCULCORNUCÓPIA LDA - Vino Vero",
         "orientation": "h",
         "showlegend": true,
         "text": [
          137.4,
          5.59
         ],
         "textposition": "auto",
         "type": "bar",
         "x": [
          137.4,
          5.59
         ],
         "xaxis": "x",
         "y": [
          "Cachaça com Jambu Jambuzera Orgânica 50cl 38% - IABA incluido 4.26€",
          "GLS Delivery Mercado Interno"
         ],
         "yaxis": "y"
        },
        {
         "alignmentgroup": "True",
         "hovertemplate": "<b>%{hovertext}</b><br><br>Nome=TOCA DAS ARTES - NÚCLEO CULTURAL<br>Total Movimentado=%{text}<br>Produto=%{y}<extra></extra>",
         "hovertext": [
          "Cachaça com Jambu Jambuzera Orgânica 50cl 38% - IABA incluido 4.26€",
          "GLS Delivery Mercado Interno"
         ],
         "legendgroup": "TOCA DAS ARTES - NÚCLEO CULTURAL",
         "marker": {
          "color": "#636efa",
          "pattern": {
           "shape": ""
          }
         },
         "name": "TOCA DAS ARTES - NÚCLEO CULTURAL",
         "offsetgroup": "TOCA DAS ARTES - NÚCLEO CULTURAL",
         "orientation": "h",
         "showlegend": true,
         "text": [
          137.4,
          5.59
         ],
         "textposition": "auto",
         "type": "bar",
         "x": [
          137.4,
          5.59
         ],
         "xaxis": "x",
         "y": [
          "Cachaça com Jambu Jambuzera Orgânica 50cl 38% - IABA incluido 4.26€",
          "GLS Delivery Mercado Interno"
         ],
         "yaxis": "y"
        },
        {
         "alignmentgroup": "True",
         "hovertemplate": "<b>%{hovertext}</b><br><br>Nome=Sparkling Pocket Unip LDA - CopaLisboa<br>Total Movimentado=%{text}<br>Produto=%{y}<extra></extra>",
         "hovertext": [
          "A Cachaça Prata 70cl 38% - IABA incluido 4.26€",
          "Cachaça Weber Haus Amburana 70cl 38% - IABA incluido 4.26€",
          "Cachaça com Jambu Jambuzera Orgânica 1L 38% - IABA incluido 6.09€",
          "Cachaça Tiê Jequitibá 70cl 40% - IABA incluido 4.49€",
          "Cachaça 1922 Envelhecida 70cl 40% - IABA incluido 4.49€",
          "Cachaça Sepultura Amburana 70cl 40% - IABA incluido 4.49€",
          "Cachaça Vanderley Azevedo Black 70cl 40% - IABA incluido 4.49€",
          "Cachaça Batista Amburana 70cl 40% - IABA incluido 4.49€",
          "Cachaça Rio do Engenho Reserva 70cl 38% - IABA incluido 4.26€",
          "Cachaça Batista Prata 70cl 40% - IABA incluido 4.49€",
          "Cachaça Bockorny Balsamo 70cl 38% - IABA incluido 4.26€",
          "Cachaça Caboclinha Jequitibá 70cl% - IABA incluido 4.71€",
          "Cachaça Caboclinha Prata 70cl 42% - IABA incluido 4.71€",
          "GLS Delivery Mercado Interno"
         ],
         "legendgroup": "Sparkling Pocket Unip LDA - CopaLisboa",
         "marker": {
          "color": "#EF553B",
          "pattern": {
           "shape": ""
          }
         },
         "name": "Sparkling Pocket Unip LDA - CopaLisboa",
         "offsetgroup": "Sparkling Pocket Unip LDA - CopaLisboa",
         "orientation": "h",
         "showlegend": true,
         "text": [
          103.76,
          100,
          63.94,
          26.77,
          26.5,
          24.47,
          23.97,
          21.97,
          21.97,
          21.37,
          21.1,
          20.3,
          19.5,
          15.1
         ],
         "textposition": "auto",
         "type": "bar",
         "x": [
          103.76,
          100,
          63.94,
          26.77,
          26.5,
          24.47,
          23.97,
          21.97,
          21.97,
          21.37,
          21.1,
          20.3,
          19.5,
          15.1
         ],
         "xaxis": "x",
         "y": [
          "A Cachaça Prata 70cl 38% - IABA incluido 4.26€",
          "Cachaça Weber Haus Amburana 70cl 38% - IABA incluido 4.26€",
          "Cachaça com Jambu Jambuzera Orgânica 1L 38% - IABA incluido 6.09€",
          "Cachaça Tiê Jequitibá 70cl 40% - IABA incluido 4.49€",
          "Cachaça 1922 Envelhecida 70cl 40% - IABA incluido 4.49€",
          "Cachaça Sepultura Amburana 70cl 40% - IABA incluido 4.49€",
          "Cachaça Vanderley Azevedo Black 70cl 40% - IABA incluido 4.49€",
          "Cachaça Batista Amburana 70cl 40% - IABA incluido 4.49€",
          "Cachaça Rio do Engenho Reserva 70cl 38% - IABA incluido 4.26€",
          "Cachaça Batista Prata 70cl 40% - IABA incluido 4.49€",
          "Cachaça Bockorny Balsamo 70cl 38% - IABA incluido 4.26€",
          "Cachaça Caboclinha Jequitibá 70cl% - IABA incluido 4.71€",
          "Cachaça Caboclinha Prata 70cl 42% - IABA incluido 4.71€",
          "GLS Delivery Mercado Interno"
         ],
         "yaxis": "y"
        },
        {
         "alignmentgroup": "True",
         "hovertemplate": "<b>%{hovertext}</b><br><br>Nome=Culminar D`Ideias Lda - O Fatica<br>Total Movimentado=%{text}<br>Produto=%{y}<extra></extra>",
         "hovertext": [
          "Cachaça com Jambu Jambuzera Orgânica 1L 38% - IABA incluido 6.09€",
          "Licor Creme de Coco João Mendes 50cl 15% - IABA incluido 1.20€",
          "Licor Cravo e Canela João Mendes 50cl 15% - IABA incluído 1.20€",
          "GLS Delivery Mercado Interno"
         ],
         "legendgroup": "Culminar D`Ideias Lda - O Fatica",
         "marker": {
          "color": "#00cc96",
          "pattern": {
           "shape": ""
          }
         },
         "name": "Culminar D`Ideias Lda - O Fatica",
         "offsetgroup": "Culminar D`Ideias Lda - O Fatica",
         "orientation": "h",
         "showlegend": true,
         "text": [
          95.91,
          16.15,
          14.97,
          5.59
         ],
         "textposition": "auto",
         "type": "bar",
         "x": [
          95.91,
          16.15,
          14.97,
          5.59
         ],
         "xaxis": "x",
         "y": [
          "Cachaça com Jambu Jambuzera Orgânica 1L 38% - IABA incluido 6.09€",
          "Licor Creme de Coco João Mendes 50cl 15% - IABA incluido 1.20€",
          "Licor Cravo e Canela João Mendes 50cl 15% - IABA incluído 1.20€",
          "GLS Delivery Mercado Interno"
         ],
         "yaxis": "y"
        },
        {
         "alignmentgroup": "True",
         "hovertemplate": "<b>%{hovertext}</b><br><br>Nome=Daniel Skutnik<br>Total Movimentado=%{text}<br>Produto=%{y}<extra></extra>",
         "hovertext": [
          "Cachaça João Mendes Ouro 70cl 38% - IABA incluido 4.26€",
          "Porte de Envio Mercado Extra"
         ],
         "legendgroup": "Daniel Skutnik",
         "marker": {
          "color": "#ab63fa",
          "pattern": {
           "shape": ""
          }
         },
         "name": "Daniel Skutnik",
         "offsetgroup": "Daniel Skutnik",
         "orientation": "h",
         "showlegend": true,
         "text": [
          72.85,
          18.7
         ],
         "textposition": "auto",
         "type": "bar",
         "x": [
          72.85,
          18.7
         ],
         "xaxis": "x",
         "y": [
          "Cachaça João Mendes Ouro 70cl 38% - IABA incluido 4.26€",
          "Porte de Envio Mercado Extra"
         ],
         "yaxis": "y"
        },
        {
         "alignmentgroup": "True",
         "hovertemplate": "<b>%{hovertext}</b><br><br>Nome=Ivan Bachiller Vial<br>Total Movimentado=%{text}<br>Produto=%{y}<extra></extra>",
         "hovertext": [
          "Cachaça com Jambu Jambuzera Orgânica 50cl 38% - IABA incluido 4.26€",
          "Porte de Envio Mercado Extra"
         ],
         "legendgroup": "Ivan Bachiller Vial",
         "marker": {
          "color": "#FFA15A",
          "pattern": {
           "shape": ""
          }
         },
         "name": "Ivan Bachiller Vial",
         "offsetgroup": "Ivan Bachiller Vial",
         "orientation": "h",
         "showlegend": true,
         "text": [
          55.93,
          12.2
         ],
         "textposition": "auto",
         "type": "bar",
         "x": [
          55.93,
          12.2
         ],
         "xaxis": "x",
         "y": [
          "Cachaça com Jambu Jambuzera Orgânica 50cl 38% - IABA incluido 4.26€",
          "Porte de Envio Mercado Extra"
         ],
         "yaxis": "y"
        },
        {
         "alignmentgroup": "True",
         "hovertemplate": "<b>%{hovertext}</b><br><br>Nome=Rodrigo Waddington<br>Total Movimentado=%{text}<br>Produto=%{y}<extra></extra>",
         "hovertext": [
          "Cachaça com Jambu Jambuzera Orgânica 50cl 38% - IABA incluido 4.26€",
          "GLS Delivery Mercado Interno"
         ],
         "legendgroup": "Rodrigo Waddington",
         "marker": {
          "color": "#19d3f3",
          "pattern": {
           "shape": ""
          }
         },
         "name": "Rodrigo Waddington",
         "offsetgroup": "Rodrigo Waddington",
         "orientation": "h",
         "showlegend": true,
         "text": [
          55.93,
          4.72
         ],
         "textposition": "auto",
         "type": "bar",
         "x": [
          55.93,
          4.72
         ],
         "xaxis": "x",
         "y": [
          "Cachaça com Jambu Jambuzera Orgânica 50cl 38% - IABA incluido 4.26€",
          "GLS Delivery Mercado Interno"
         ],
         "yaxis": "y"
        },
        {
         "alignmentgroup": "True",
         "hovertemplate": "<b>%{hovertext}</b><br><br>Nome=EUFORIA DOS AROMAS – ACTIVIDADES HOTELEIRAS LDA -<br>Total Movimentado=%{text}<br>Produto=%{y}<extra></extra>",
         "hovertext": [
          "Cachaça Weber Haus Canela Sassafras 70cl 38% - IABA incluido 4.26€",
          "Cachaça Weber Haus Carvalho e Cabriuva 70cl 38% - IABA incluido 4.26€",
          "Cachaça Rio do Engenho Ouro 70cl 38% - IABA incluido 4.26€",
          "Cachaça com Jambu Jambuzera Orgânica 1L 38% - IABA incluido 6.09€",
          "Cachaça Rio do Engenho Reserva 70cl 38% - IABA incluido 4.26€",
          "Cachaça Canabella Ouro 70cl 40% - IABA incluido 4.49€",
          "Cachaça Melicana Amburana 700ml 40% - IABA incluido 4.49€",
          "Cachaça Rio do Engenho Prata 70cl 38% - IABA incluido 4.26€",
          "A Cachaça Prata 70cl 38% - IABA incluido 4.26€",
          "GLS Delivery Mercado Interno"
         ],
         "legendgroup": "EUFORIA DOS AROMAS – ACTIVIDADES HOTELEIRAS LDA -",
         "marker": {
          "color": "#FF6692",
          "pattern": {
           "shape": ""
          }
         },
         "name": "EUFORIA DOS AROMAS – ACTIVIDADES HOTELEIRAS LDA -",
         "offsetgroup": "EUFORIA DOS AROMAS – ACTIVIDADES HOTELEIRAS LDA -",
         "orientation": "h",
         "showlegend": true,
         "text": [
          50,
          50,
          41.94,
          31.97,
          21.97,
          21.7,
          20.87,
          20.1,
          12.97,
          7.55
         ],
         "textposition": "auto",
         "type": "bar",
         "x": [
          50,
          50,
          41.94,
          31.97,
          21.97,
          21.7,
          20.87,
          20.1,
          12.97,
          7.55
         ],
         "xaxis": "x",
         "y": [
          "Cachaça Weber Haus Canela Sassafras 70cl 38% - IABA incluido 4.26€",
          "Cachaça Weber Haus Carvalho e Cabriuva 70cl 38% - IABA incluido 4.26€",
          "Cachaça Rio do Engenho Ouro 70cl 38% - IABA incluido 4.26€",
          "Cachaça com Jambu Jambuzera Orgânica 1L 38% - IABA incluido 6.09€",
          "Cachaça Rio do Engenho Reserva 70cl 38% - IABA incluido 4.26€",
          "Cachaça Canabella Ouro 70cl 40% - IABA incluido 4.49€",
          "Cachaça Melicana Amburana 700ml 40% - IABA incluido 4.49€",
          "Cachaça Rio do Engenho Prata 70cl 38% - IABA incluido 4.26€",
          "A Cachaça Prata 70cl 38% - IABA incluido 4.26€",
          "GLS Delivery Mercado Interno"
         ],
         "yaxis": "y"
        },
        {
         "alignmentgroup": "True",
         "hovertemplate": "<b>%{hovertext}</b><br><br>Nome=Consumidor Final<br>Total Movimentado=%{text}<br>Produto=%{y}<extra></extra>",
         "hovertext": [
          "Licor Creme de Doce de Leite João Mendes 50cl 15% - IABA incluido 1.20€",
          "Cachaça com Jambu Jambuzera Orgânica 50cl 38% - IABA incluido 4.26€",
          "Cachaça Weber Haus Amburana 70cl 38% - IABA incluido 4.26€",
          "A Cachaça Prata 70cl 38% - IABA incluido 4.26€",
          "Cachaça Vanderley Azevedo Premium 70cl 40% - IABA incluido 4.49€",
          "Cachaça Amburana 5 Madeiras 70cl 42% - IABA incluido 4.71€",
          "Cachaça Bockorny Amburana 70cl 38% - IABA incluido 4.26€",
          "Cachaça Pindorama Prata 70 cl 40% - IABA incluido 4.49€",
          "Cachaça Sapucaia Amendoim 70cl 40.5% - IABA incluido 4.54€",
          "Cachaça Sapucaia Carvalho 70cl 40.5% - IABA incluido 4.54€",
          "Cachaça Vanderley Azevedo Black 70cl 40% - IABA incluido 4.49€"
         ],
         "legendgroup": "Consumidor Final",
         "marker": {
          "color": "#B6E880",
          "pattern": {
           "shape": ""
          }
         },
         "name": "Consumidor Final",
         "offsetgroup": "Consumidor Final",
         "orientation": "h",
         "showlegend": true,
         "text": [
          48.45,
          22.9,
          0,
          0,
          0,
          0,
          0,
          0,
          0,
          0,
          0
         ],
         "textposition": "auto",
         "type": "bar",
         "x": [
          48.45,
          22.9,
          0,
          0,
          0,
          0,
          0,
          0,
          0,
          0,
          0
         ],
         "xaxis": "x",
         "y": [
          "Licor Creme de Doce de Leite João Mendes 50cl 15% - IABA incluido 1.20€",
          "Cachaça com Jambu Jambuzera Orgânica 50cl 38% - IABA incluido 4.26€",
          "Cachaça Weber Haus Amburana 70cl 38% - IABA incluido 4.26€",
          "A Cachaça Prata 70cl 38% - IABA incluido 4.26€",
          "Cachaça Vanderley Azevedo Premium 70cl 40% - IABA incluido 4.49€",
          "Cachaça Amburana 5 Madeiras 70cl 42% - IABA incluido 4.71€",
          "Cachaça Bockorny Amburana 70cl 38% - IABA incluido 4.26€",
          "Cachaça Pindorama Prata 70 cl 40% - IABA incluido 4.49€",
          "Cachaça Sapucaia Amendoim 70cl 40.5% - IABA incluido 4.54€",
          "Cachaça Sapucaia Carvalho 70cl 40.5% - IABA incluido 4.54€",
          "Cachaça Vanderley Azevedo Black 70cl 40% - IABA incluido 4.49€"
         ],
         "yaxis": "y"
        },
        {
         "alignmentgroup": "True",
         "hovertemplate": "<b>%{hovertext}</b><br><br>Nome=ALECRIM MOURISCO - LDA<br>Total Movimentado=%{text}<br>Produto=%{y}<extra></extra>",
         "hovertext": [
          "Cachaça com Jambu Jambuzera Orgânica 50cl 38% - IABA incluido 4.26€",
          "A Cachaça Prata 70cl 38% - IABA incluido 4.26€",
          "Cachaça Melicana Amburana 700ml 40% - IABA incluido 4.49€"
         ],
         "legendgroup": "ALECRIM MOURISCO - LDA",
         "marker": {
          "color": "#FF97FF",
          "pattern": {
           "shape": ""
          }
         },
         "name": "ALECRIM MOURISCO - LDA",
         "offsetgroup": "ALECRIM MOURISCO - LDA",
         "orientation": "h",
         "showlegend": true,
         "text": [
          45.8,
          38.91,
          20.87
         ],
         "textposition": "auto",
         "type": "bar",
         "x": [
          45.8,
          38.91,
          20.87
         ],
         "xaxis": "x",
         "y": [
          "Cachaça com Jambu Jambuzera Orgânica 50cl 38% - IABA incluido 4.26€",
          "A Cachaça Prata 70cl 38% - IABA incluido 4.26€",
          "Cachaça Melicana Amburana 700ml 40% - IABA incluido 4.49€"
         ],
         "yaxis": "y"
        },
        {
         "alignmentgroup": "True",
         "hovertemplate": "<b>%{hovertext}</b><br><br>Nome=Adeptos D’alecrim Lda - Copa Barrafina<br>Total Movimentado=%{text}<br>Produto=%{y}<extra></extra>",
         "hovertext": [
          "Cachaça com Jambu Jambuzera Orgânica 1L 38% - IABA incluido 6.09€",
          "Cachaça Vanderley Azevedo Black 70cl 40% - IABA incluido 4.49€",
          "Cachaça Rio do Engenho Reserva 70cl 38% - IABA incluido 4.26€",
          "Cachaça Canabella Ouro 70cl 40% - IABA incluido 4.49€",
          "Cachaça João Mendes Ouro 70cl 38% - IABA incluido 4.26€",
          "Cachaça Canabella Prata 70cl 40% - IABA incluido 4.49€",
          "GLS Delivery Mercado Interno"
         ],
         "legendgroup": "Adeptos D’alecrim Lda - Copa Barrafina",
         "marker": {
          "color": "#FECB52",
          "pattern": {
           "shape": ""
          }
         },
         "name": "Adeptos D’alecrim Lda - Copa Barrafina",
         "offsetgroup": "Adeptos D’alecrim Lda - Copa Barrafina",
         "orientation": "h",
         "showlegend": true,
         "text": [
          31.97,
          23.97,
          21.97,
          21.7,
          19.9,
          19.1,
          5.59
         ],
         "textposition": "auto",
         "type": "bar",
         "x": [
          31.97,
          23.97,
          21.97,
          21.7,
          19.9,
          19.1,
          5.59
         ],
         "xaxis": "x",
         "y": [
          "Cachaça com Jambu Jambuzera Orgânica 1L 38% - IABA incluido 6.09€",
          "Cachaça Vanderley Azevedo Black 70cl 40% - IABA incluido 4.49€",
          "Cachaça Rio do Engenho Reserva 70cl 38% - IABA incluido 4.26€",
          "Cachaça Canabella Ouro 70cl 40% - IABA incluido 4.49€",
          "Cachaça João Mendes Ouro 70cl 38% - IABA incluido 4.26€",
          "Cachaça Canabella Prata 70cl 40% - IABA incluido 4.49€",
          "GLS Delivery Mercado Interno"
         ],
         "yaxis": "y"
        },
        {
         "alignmentgroup": "True",
         "hovertemplate": "<b>%{hovertext}</b><br><br>Nome=Abraços de Veludo Unip Lda - Bodega Brasileira<br>Total Movimentado=%{text}<br>Produto=%{y}<extra></extra>",
         "hovertext": [
          "Cachaça com Jambu Jambuzera Orgânica 1L 38% - IABA incluido 6.09€"
         ],
         "legendgroup": "Abraços de Veludo Unip Lda - Bodega Brasileira",
         "marker": {
          "color": "#636efa",
          "pattern": {
           "shape": ""
          }
         },
         "name": "Abraços de Veludo Unip Lda - Bodega Brasileira",
         "offsetgroup": "Abraços de Veludo Unip Lda - Bodega Brasileira",
         "orientation": "h",
         "showlegend": true,
         "text": [
          31.97
         ],
         "textposition": "auto",
         "type": "bar",
         "x": [
          31.97
         ],
         "xaxis": "x",
         "y": [
          "Cachaça com Jambu Jambuzera Orgânica 1L 38% - IABA incluido 6.09€"
         ],
         "yaxis": "y"
        },
        {
         "alignmentgroup": "True",
         "hovertemplate": "<b>%{hovertext}</b><br><br>Nome=Norbert Radvilovic<br>Total Movimentado=%{text}<br>Produto=%{y}<extra></extra>",
         "hovertext": [
          "Cachaça Weber Haus Amburana 70cl 38% - IABA incluido 4.26€",
          "Cachaça com Jambu Jambuzera Orgânica 50cl 38% - IABA incluido 4.26€",
          "Porte de Envio Mercado Extra"
         ],
         "legendgroup": "Norbert Radvilovic",
         "marker": {
          "color": "#EF553B",
          "pattern": {
           "shape": ""
          }
         },
         "name": "Norbert Radvilovic",
         "offsetgroup": "Norbert Radvilovic",
         "orientation": "h",
         "showlegend": true,
         "text": [
          30.49,
          27.97,
          14.15
         ],
         "textposition": "auto",
         "type": "bar",
         "x": [
          30.49,
          27.97,
          14.15
         ],
         "xaxis": "x",
         "y": [
          "Cachaça Weber Haus Amburana 70cl 38% - IABA incluido 4.26€",
          "Cachaça com Jambu Jambuzera Orgânica 50cl 38% - IABA incluido 4.26€",
          "Porte de Envio Mercado Extra"
         ],
         "yaxis": "y"
        },
        {
         "alignmentgroup": "True",
         "hovertemplate": "<b>%{hovertext}</b><br><br>Nome=Ilidio Almeida<br>Total Movimentado=%{text}<br>Produto=%{y}<extra></extra>",
         "hovertext": [
          "Cachaça Amburana 5 Madeiras 70cl 42% - IABA incluido 4.71€",
          "Licor Creme de Coco João Mendes 50cl 15% - IABA incluido 1.20€"
         ],
         "legendgroup": "Ilidio Almeida",
         "marker": {
          "color": "#00cc96",
          "pattern": {
           "shape": ""
          }
         },
         "name": "Ilidio Almeida",
         "offsetgroup": "Ilidio Almeida",
         "orientation": "h",
         "showlegend": true,
         "text": [
          23.1,
          16.15
         ],
         "textposition": "auto",
         "type": "bar",
         "x": [
          23.1,
          16.15
         ],
         "xaxis": "x",
         "y": [
          "Cachaça Amburana 5 Madeiras 70cl 42% - IABA incluido 4.71€",
          "Licor Creme de Coco João Mendes 50cl 15% - IABA incluido 1.20€"
         ],
         "yaxis": "y"
        },
        {
         "alignmentgroup": "True",
         "hovertemplate": "<b>%{hovertext}</b><br><br>Nome=SABITA & SANTOSH LDA - Imani Cafe Pastelaria<br>Total Movimentado=%{text}<br>Produto=%{y}<extra></extra>",
         "hovertext": [
          "Cachaça com Jambu Jambuzera Orgânica 50cl 38% - IABA incluido 4.26€",
          "Cachaça João Mendes Ouro 70cl 38% - IABA incluido 4.26€",
          "A Cachaça Prata 70cl 38% - IABA incluido 4.26€"
         ],
         "legendgroup": "SABITA & SANTOSH LDA - Imani Cafe Pastelaria",
         "marker": {
          "color": "#ab63fa",
          "pattern": {
           "shape": ""
          }
         },
         "name": "SABITA & SANTOSH LDA - Imani Cafe Pastelaria",
         "offsetgroup": "SABITA & SANTOSH LDA - Imani Cafe Pastelaria",
         "orientation": "h",
         "showlegend": true,
         "text": [
          22.9,
          19.9,
          12.97
         ],
         "textposition": "auto",
         "type": "bar",
         "x": [
          22.9,
          19.9,
          12.97
         ],
         "xaxis": "x",
         "y": [
          "Cachaça com Jambu Jambuzera Orgânica 50cl 38% - IABA incluido 4.26€",
          "Cachaça João Mendes Ouro 70cl 38% - IABA incluido 4.26€",
          "A Cachaça Prata 70cl 38% - IABA incluido 4.26€"
         ],
         "yaxis": "y"
        },
        {
         "alignmentgroup": "True",
         "hovertemplate": "<b>%{hovertext}</b><br><br>Nome=José Moreira<br>Total Movimentado=%{text}<br>Produto=%{y}<extra></extra>",
         "hovertext": [
          "Licor Creme de Doce de Leite João Mendes 50cl 15% - IABA incluido 1.20€"
         ],
         "legendgroup": "José Moreira",
         "marker": {
          "color": "#FFA15A",
          "pattern": {
           "shape": ""
          }
         },
         "name": "José Moreira",
         "offsetgroup": "José Moreira",
         "orientation": "h",
         "showlegend": true,
         "text": [
          16.15
         ],
         "textposition": "auto",
         "type": "bar",
         "x": [
          16.15
         ],
         "xaxis": "x",
         "y": [
          "Licor Creme de Doce de Leite João Mendes 50cl 15% - IABA incluido 1.20€"
         ],
         "yaxis": "y"
        },
        {
         "alignmentgroup": "True",
         "hovertemplate": "<b>%{hovertext}</b><br><br>Nome=Tasca do Ronaldao<br>Total Movimentado=%{text}<br>Produto=%{y}<extra></extra>",
         "hovertext": [
          "A Cachaça Prata 70cl 38% - IABA incluido 4.26€"
         ],
         "legendgroup": "Tasca do Ronaldao",
         "marker": {
          "color": "#19d3f3",
          "pattern": {
           "shape": ""
          }
         },
         "name": "Tasca do Ronaldao",
         "offsetgroup": "Tasca do Ronaldao",
         "orientation": "h",
         "showlegend": true,
         "text": [
          12.97
         ],
         "textposition": "auto",
         "type": "bar",
         "x": [
          12.97
         ],
         "xaxis": "x",
         "y": [
          "A Cachaça Prata 70cl 38% - IABA incluido 4.26€"
         ],
         "yaxis": "y"
        }
       ],
       "layout": {
        "barmode": "relative",
        "height": 1000,
        "legend": {
         "title": {
          "text": "Nome"
         },
         "tracegroupgap": 0
        },
        "template": {
         "data": {
          "bar": [
           {
            "error_x": {
             "color": "#f2f5fa"
            },
            "error_y": {
             "color": "#f2f5fa"
            },
            "marker": {
             "line": {
              "color": "rgb(17,17,17)",
              "width": 0.5
             },
             "pattern": {
              "fillmode": "overlay",
              "size": 10,
              "solidity": 0.2
             }
            },
            "type": "bar"
           }
          ],
          "barpolar": [
           {
            "marker": {
             "line": {
              "color": "rgb(17,17,17)",
              "width": 0.5
             },
             "pattern": {
              "fillmode": "overlay",
              "size": 10,
              "solidity": 0.2
             }
            },
            "type": "barpolar"
           }
          ],
          "carpet": [
           {
            "aaxis": {
             "endlinecolor": "#A2B1C6",
             "gridcolor": "#506784",
             "linecolor": "#506784",
             "minorgridcolor": "#506784",
             "startlinecolor": "#A2B1C6"
            },
            "baxis": {
             "endlinecolor": "#A2B1C6",
             "gridcolor": "#506784",
             "linecolor": "#506784",
             "minorgridcolor": "#506784",
             "startlinecolor": "#A2B1C6"
            },
            "type": "carpet"
           }
          ],
          "choropleth": [
           {
            "colorbar": {
             "outlinewidth": 0,
             "ticks": ""
            },
            "type": "choropleth"
           }
          ],
          "contour": [
           {
            "colorbar": {
             "outlinewidth": 0,
             "ticks": ""
            },
            "colorscale": [
             [
              0,
              "#0d0887"
             ],
             [
              0.1111111111111111,
              "#46039f"
             ],
             [
              0.2222222222222222,
              "#7201a8"
             ],
             [
              0.3333333333333333,
              "#9c179e"
             ],
             [
              0.4444444444444444,
              "#bd3786"
             ],
             [
              0.5555555555555556,
              "#d8576b"
             ],
             [
              0.6666666666666666,
              "#ed7953"
             ],
             [
              0.7777777777777778,
              "#fb9f3a"
             ],
             [
              0.8888888888888888,
              "#fdca26"
             ],
             [
              1,
              "#f0f921"
             ]
            ],
            "type": "contour"
           }
          ],
          "contourcarpet": [
           {
            "colorbar": {
             "outlinewidth": 0,
             "ticks": ""
            },
            "type": "contourcarpet"
           }
          ],
          "heatmap": [
           {
            "colorbar": {
             "outlinewidth": 0,
             "ticks": ""
            },
            "colorscale": [
             [
              0,
              "#0d0887"
             ],
             [
              0.1111111111111111,
              "#46039f"
             ],
             [
              0.2222222222222222,
              "#7201a8"
             ],
             [
              0.3333333333333333,
              "#9c179e"
             ],
             [
              0.4444444444444444,
              "#bd3786"
             ],
             [
              0.5555555555555556,
              "#d8576b"
             ],
             [
              0.6666666666666666,
              "#ed7953"
             ],
             [
              0.7777777777777778,
              "#fb9f3a"
             ],
             [
              0.8888888888888888,
              "#fdca26"
             ],
             [
              1,
              "#f0f921"
             ]
            ],
            "type": "heatmap"
           }
          ],
          "heatmapgl": [
           {
            "colorbar": {
             "outlinewidth": 0,
             "ticks": ""
            },
            "colorscale": [
             [
              0,
              "#0d0887"
             ],
             [
              0.1111111111111111,
              "#46039f"
             ],
             [
              0.2222222222222222,
              "#7201a8"
             ],
             [
              0.3333333333333333,
              "#9c179e"
             ],
             [
              0.4444444444444444,
              "#bd3786"
             ],
             [
              0.5555555555555556,
              "#d8576b"
             ],
             [
              0.6666666666666666,
              "#ed7953"
             ],
             [
              0.7777777777777778,
              "#fb9f3a"
             ],
             [
              0.8888888888888888,
              "#fdca26"
             ],
             [
              1,
              "#f0f921"
             ]
            ],
            "type": "heatmapgl"
           }
          ],
          "histogram": [
           {
            "marker": {
             "pattern": {
              "fillmode": "overlay",
              "size": 10,
              "solidity": 0.2
             }
            },
            "type": "histogram"
           }
          ],
          "histogram2d": [
           {
            "colorbar": {
             "outlinewidth": 0,
             "ticks": ""
            },
            "colorscale": [
             [
              0,
              "#0d0887"
             ],
             [
              0.1111111111111111,
              "#46039f"
             ],
             [
              0.2222222222222222,
              "#7201a8"
             ],
             [
              0.3333333333333333,
              "#9c179e"
             ],
             [
              0.4444444444444444,
              "#bd3786"
             ],
             [
              0.5555555555555556,
              "#d8576b"
             ],
             [
              0.6666666666666666,
              "#ed7953"
             ],
             [
              0.7777777777777778,
              "#fb9f3a"
             ],
             [
              0.8888888888888888,
              "#fdca26"
             ],
             [
              1,
              "#f0f921"
             ]
            ],
            "type": "histogram2d"
           }
          ],
          "histogram2dcontour": [
           {
            "colorbar": {
             "outlinewidth": 0,
             "ticks": ""
            },
            "colorscale": [
             [
              0,
              "#0d0887"
             ],
             [
              0.1111111111111111,
              "#46039f"
             ],
             [
              0.2222222222222222,
              "#7201a8"
             ],
             [
              0.3333333333333333,
              "#9c179e"
             ],
             [
              0.4444444444444444,
              "#bd3786"
             ],
             [
              0.5555555555555556,
              "#d8576b"
             ],
             [
              0.6666666666666666,
              "#ed7953"
             ],
             [
              0.7777777777777778,
              "#fb9f3a"
             ],
             [
              0.8888888888888888,
              "#fdca26"
             ],
             [
              1,
              "#f0f921"
             ]
            ],
            "type": "histogram2dcontour"
           }
          ],
          "mesh3d": [
           {
            "colorbar": {
             "outlinewidth": 0,
             "ticks": ""
            },
            "type": "mesh3d"
           }
          ],
          "parcoords": [
           {
            "line": {
             "colorbar": {
              "outlinewidth": 0,
              "ticks": ""
             }
            },
            "type": "parcoords"
           }
          ],
          "pie": [
           {
            "automargin": true,
            "type": "pie"
           }
          ],
          "scatter": [
           {
            "marker": {
             "line": {
              "color": "#283442"
             }
            },
            "type": "scatter"
           }
          ],
          "scatter3d": [
           {
            "line": {
             "colorbar": {
              "outlinewidth": 0,
              "ticks": ""
             }
            },
            "marker": {
             "colorbar": {
              "outlinewidth": 0,
              "ticks": ""
             }
            },
            "type": "scatter3d"
           }
          ],
          "scattercarpet": [
           {
            "marker": {
             "colorbar": {
              "outlinewidth": 0,
              "ticks": ""
             }
            },
            "type": "scattercarpet"
           }
          ],
          "scattergeo": [
           {
            "marker": {
             "colorbar": {
              "outlinewidth": 0,
              "ticks": ""
             }
            },
            "type": "scattergeo"
           }
          ],
          "scattergl": [
           {
            "marker": {
             "line": {
              "color": "#283442"
             }
            },
            "type": "scattergl"
           }
          ],
          "scattermapbox": [
           {
            "marker": {
             "colorbar": {
              "outlinewidth": 0,
              "ticks": ""
             }
            },
            "type": "scattermapbox"
           }
          ],
          "scatterpolar": [
           {
            "marker": {
             "colorbar": {
              "outlinewidth": 0,
              "ticks": ""
             }
            },
            "type": "scatterpolar"
           }
          ],
          "scatterpolargl": [
           {
            "marker": {
             "colorbar": {
              "outlinewidth": 0,
              "ticks": ""
             }
            },
            "type": "scatterpolargl"
           }
          ],
          "scatterternary": [
           {
            "marker": {
             "colorbar": {
              "outlinewidth": 0,
              "ticks": ""
             }
            },
            "type": "scatterternary"
           }
          ],
          "surface": [
           {
            "colorbar": {
             "outlinewidth": 0,
             "ticks": ""
            },
            "colorscale": [
             [
              0,
              "#0d0887"
             ],
             [
              0.1111111111111111,
              "#46039f"
             ],
             [
              0.2222222222222222,
              "#7201a8"
             ],
             [
              0.3333333333333333,
              "#9c179e"
             ],
             [
              0.4444444444444444,
              "#bd3786"
             ],
             [
              0.5555555555555556,
              "#d8576b"
             ],
             [
              0.6666666666666666,
              "#ed7953"
             ],
             [
              0.7777777777777778,
              "#fb9f3a"
             ],
             [
              0.8888888888888888,
              "#fdca26"
             ],
             [
              1,
              "#f0f921"
             ]
            ],
            "type": "surface"
           }
          ],
          "table": [
           {
            "cells": {
             "fill": {
              "color": "#506784"
             },
             "line": {
              "color": "rgb(17,17,17)"
             }
            },
            "header": {
             "fill": {
              "color": "#2a3f5f"
             },
             "line": {
              "color": "rgb(17,17,17)"
             }
            },
            "type": "table"
           }
          ]
         },
         "layout": {
          "annotationdefaults": {
           "arrowcolor": "#f2f5fa",
           "arrowhead": 0,
           "arrowwidth": 1
          },
          "autotypenumbers": "strict",
          "coloraxis": {
           "colorbar": {
            "outlinewidth": 0,
            "ticks": ""
           }
          },
          "colorscale": {
           "diverging": [
            [
             0,
             "#8e0152"
            ],
            [
             0.1,
             "#c51b7d"
            ],
            [
             0.2,
             "#de77ae"
            ],
            [
             0.3,
             "#f1b6da"
            ],
            [
             0.4,
             "#fde0ef"
            ],
            [
             0.5,
             "#f7f7f7"
            ],
            [
             0.6,
             "#e6f5d0"
            ],
            [
             0.7,
             "#b8e186"
            ],
            [
             0.8,
             "#7fbc41"
            ],
            [
             0.9,
             "#4d9221"
            ],
            [
             1,
             "#276419"
            ]
           ],
           "sequential": [
            [
             0,
             "#0d0887"
            ],
            [
             0.1111111111111111,
             "#46039f"
            ],
            [
             0.2222222222222222,
             "#7201a8"
            ],
            [
             0.3333333333333333,
             "#9c179e"
            ],
            [
             0.4444444444444444,
             "#bd3786"
            ],
            [
             0.5555555555555556,
             "#d8576b"
            ],
            [
             0.6666666666666666,
             "#ed7953"
            ],
            [
             0.7777777777777778,
             "#fb9f3a"
            ],
            [
             0.8888888888888888,
             "#fdca26"
            ],
            [
             1,
             "#f0f921"
            ]
           ],
           "sequentialminus": [
            [
             0,
             "#0d0887"
            ],
            [
             0.1111111111111111,
             "#46039f"
            ],
            [
             0.2222222222222222,
             "#7201a8"
            ],
            [
             0.3333333333333333,
             "#9c179e"
            ],
            [
             0.4444444444444444,
             "#bd3786"
            ],
            [
             0.5555555555555556,
             "#d8576b"
            ],
            [
             0.6666666666666666,
             "#ed7953"
            ],
            [
             0.7777777777777778,
             "#fb9f3a"
            ],
            [
             0.8888888888888888,
             "#fdca26"
            ],
            [
             1,
             "#f0f921"
            ]
           ]
          },
          "colorway": [
           "#636efa",
           "#EF553B",
           "#00cc96",
           "#ab63fa",
           "#FFA15A",
           "#19d3f3",
           "#FF6692",
           "#B6E880",
           "#FF97FF",
           "#FECB52"
          ],
          "font": {
           "color": "#f2f5fa"
          },
          "geo": {
           "bgcolor": "rgb(17,17,17)",
           "lakecolor": "rgb(17,17,17)",
           "landcolor": "rgb(17,17,17)",
           "showlakes": true,
           "showland": true,
           "subunitcolor": "#506784"
          },
          "hoverlabel": {
           "align": "left"
          },
          "hovermode": "closest",
          "mapbox": {
           "style": "dark"
          },
          "paper_bgcolor": "rgb(17,17,17)",
          "plot_bgcolor": "rgb(17,17,17)",
          "polar": {
           "angularaxis": {
            "gridcolor": "#506784",
            "linecolor": "#506784",
            "ticks": ""
           },
           "bgcolor": "rgb(17,17,17)",
           "radialaxis": {
            "gridcolor": "#506784",
            "linecolor": "#506784",
            "ticks": ""
           }
          },
          "scene": {
           "xaxis": {
            "backgroundcolor": "rgb(17,17,17)",
            "gridcolor": "#506784",
            "gridwidth": 2,
            "linecolor": "#506784",
            "showbackground": true,
            "ticks": "",
            "zerolinecolor": "#C8D4E3"
           },
           "yaxis": {
            "backgroundcolor": "rgb(17,17,17)",
            "gridcolor": "#506784",
            "gridwidth": 2,
            "linecolor": "#506784",
            "showbackground": true,
            "ticks": "",
            "zerolinecolor": "#C8D4E3"
           },
           "zaxis": {
            "backgroundcolor": "rgb(17,17,17)",
            "gridcolor": "#506784",
            "gridwidth": 2,
            "linecolor": "#506784",
            "showbackground": true,
            "ticks": "",
            "zerolinecolor": "#C8D4E3"
           }
          },
          "shapedefaults": {
           "line": {
            "color": "#f2f5fa"
           }
          },
          "sliderdefaults": {
           "bgcolor": "#C8D4E3",
           "bordercolor": "rgb(17,17,17)",
           "borderwidth": 1,
           "tickwidth": 0
          },
          "ternary": {
           "aaxis": {
            "gridcolor": "#506784",
            "linecolor": "#506784",
            "ticks": ""
           },
           "baxis": {
            "gridcolor": "#506784",
            "linecolor": "#506784",
            "ticks": ""
           },
           "bgcolor": "rgb(17,17,17)",
           "caxis": {
            "gridcolor": "#506784",
            "linecolor": "#506784",
            "ticks": ""
           }
          },
          "title": {
           "x": 0.05
          },
          "updatemenudefaults": {
           "bgcolor": "#506784",
           "borderwidth": 0
          },
          "xaxis": {
           "automargin": true,
           "gridcolor": "#283442",
           "linecolor": "#506784",
           "ticks": "",
           "title": {
            "standoff": 15
           },
           "zerolinecolor": "#283442",
           "zerolinewidth": 2
          },
          "yaxis": {
           "automargin": true,
           "gridcolor": "#283442",
           "linecolor": "#506784",
           "ticks": "",
           "title": {
            "standoff": 15
           },
           "zerolinecolor": "#283442",
           "zerolinewidth": 2
          }
         }
        },
        "title": {
         "text": "Receita Liquida por Produto"
        },
        "width": 2000,
        "xaxis": {
         "anchor": "y",
         "domain": [
          0,
          1
         ],
         "title": {
          "text": "Total Movimentado"
         }
        },
        "yaxis": {
         "anchor": "x",
         "categoryorder": "total ascending",
         "domain": [
          0,
          1
         ],
         "title": {
          "text": "Produto"
         }
        }
       }
      }
     },
     "metadata": {},
     "output_type": "display_data"
    }
   ],
   "source": [
    "fig_produto = px.bar(gasto_cliente_produto, x='Liquido Mov.', y='Nome Artigo', title='Receita Liquida por Produto'\n",
    "                        , labels={'Liquido Mov.': 'Total Movimentado', 'Nome Artigo': 'Produto'}, orientation='h'\n",
    "                        , color='Nome', height=1000, width=2000,\n",
    "                        template='plotly_dark', hover_name='Nome Artigo', hover_data=['Liquido Mov.'], text='Liquido Mov.')\n",
    "\n",
    "fig_produto = fig_produto.update_layout(yaxis_categoryorder='total ascending', xaxis_title='Total Movimentado')\n",
    "fig_produto.show()"
   ]
  }
 ],
 "metadata": {
  "kernelspec": {
   "display_name": ".venv",
   "language": "python",
   "name": "python3"
  },
  "language_info": {
   "codemirror_mode": {
    "name": "ipython",
    "version": 3
   },
   "file_extension": ".py",
   "mimetype": "text/x-python",
   "name": "python",
   "nbconvert_exporter": "python",
   "pygments_lexer": "ipython3",
   "version": "3.10.11"
  }
 },
 "nbformat": 4,
 "nbformat_minor": 2
}
